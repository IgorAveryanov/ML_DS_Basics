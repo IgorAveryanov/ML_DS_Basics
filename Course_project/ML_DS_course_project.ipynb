{
 "cells": [
  {
   "cell_type": "markdown",
   "id": "49201611",
   "metadata": {
    "papermill": {
     "duration": 0.090571,
     "end_time": "2021-11-26T10:50:57.876485",
     "exception": false,
     "start_time": "2021-11-26T10:50:57.785914",
     "status": "completed"
    },
    "tags": []
   },
   "source": [
    "**Подключение библиотек и скриптов**"
   ]
  },
  {
   "cell_type": "code",
   "execution_count": 276,
   "id": "d43a555d",
   "metadata": {
    "_cell_guid": "b1076dfc-b9ad-4769-8c92-a6c4dae69d19",
    "_uuid": "8f2839f25d086af736a60e9eeb907d3b93b6e0e5",
    "execution": {
     "iopub.execute_input": "2021-11-26T10:50:58.136629Z",
     "iopub.status.busy": "2021-11-26T10:50:58.135963Z",
     "iopub.status.idle": "2021-11-26T10:50:58.145885Z",
     "shell.execute_reply": "2021-11-26T10:50:58.145056Z",
     "shell.execute_reply.started": "2021-11-26T10:37:44.960679Z"
    },
    "papermill": {
     "duration": 0.113545,
     "end_time": "2021-11-26T10:50:58.146049",
     "exception": false,
     "start_time": "2021-11-26T10:50:58.032504",
     "status": "completed"
    },
    "tags": []
   },
   "outputs": [
    {
     "name": "stdout",
     "output_type": "stream",
     "text": [
      "/kaggle/input\\real-estate-price-prediction-moscow\\test.csv\n",
      "/kaggle/input\\real-estate-price-prediction-moscow\\train.csv\n"
     ]
    }
   ],
   "source": [
    "# This Python 3 environment comes with many helpful analytics libraries installed\n",
    "# It is defined by the kaggle/python Docker image: https://github.com/kaggle/docker-python\n",
    "# For example, here's several helpful packages to load\n",
    "\n",
    "import numpy as np # linear algebra\n",
    "import pandas as pd # data processing, CSV file I/O (e.g. pd.read_csv)\n",
    "\n",
    "# Input data files are available in the read-only \"../input/\" directory\n",
    "# For example, running this (by clicking run or pressing Shift+Enter) will list all files under the input directory\n",
    "\n",
    "import os\n",
    "for dirname, _, filenames in os.walk('/kaggle/input'):\n",
    "    for filename in filenames:\n",
    "        print(os.path.join(dirname, filename))\n",
    "\n",
    "# You can write up to 20GB to the current directory (/kaggle/working/) that gets preserved as output when you create a version using \"Save & Run All\" \n",
    "# You can also write temporary files to /kaggle/temp/, but they won't be saved outside of the current session"
   ]
  },
  {
   "cell_type": "code",
   "execution_count": 277,
   "id": "473b2ceb",
   "metadata": {
    "execution": {
     "iopub.execute_input": "2021-11-26T10:50:58.336348Z",
     "iopub.status.busy": "2021-11-26T10:50:58.335526Z",
     "iopub.status.idle": "2021-11-26T10:50:59.829788Z",
     "shell.execute_reply": "2021-11-26T10:50:59.830367Z",
     "shell.execute_reply.started": "2021-11-26T10:37:44.980961Z"
    },
    "papermill": {
     "duration": 1.593643,
     "end_time": "2021-11-26T10:50:59.830573",
     "exception": false,
     "start_time": "2021-11-26T10:50:58.236930",
     "status": "completed"
    },
    "tags": []
   },
   "outputs": [],
   "source": [
    "import numpy as np\n",
    "import pandas as pd\n",
    "import random\n",
    "\n",
    "from sklearn.model_selection import train_test_split, cross_val_score\n",
    "from sklearn.preprocessing import StandardScaler, RobustScaler\n",
    "from sklearn.ensemble import RandomForestRegressor, GradientBoostingRegressor\n",
    "from sklearn.metrics import r2_score as r2\n",
    "from sklearn.model_selection import KFold, GridSearchCV\n",
    "\n",
    "from datetime import datetime\n",
    "\n",
    "import matplotlib\n",
    "import matplotlib.pyplot as plt\n",
    "import seaborn as sns\n",
    "%matplotlib inline"
   ]
  },
  {
   "cell_type": "markdown",
   "id": "6bdc75ea",
   "metadata": {
    "papermill": {
     "duration": 0.088716,
     "end_time": "2021-11-26T10:51:00.012076",
     "exception": false,
     "start_time": "2021-11-26T10:50:59.923360",
     "status": "completed"
    },
    "tags": []
   },
   "source": [
    "Подключение предупреждений"
   ]
  },
  {
   "cell_type": "code",
   "execution_count": 278,
   "id": "a8c275bc",
   "metadata": {
    "execution": {
     "iopub.execute_input": "2021-11-26T10:51:00.196662Z",
     "iopub.status.busy": "2021-11-26T10:51:00.195612Z",
     "iopub.status.idle": "2021-11-26T10:51:00.198808Z",
     "shell.execute_reply": "2021-11-26T10:51:00.198128Z",
     "shell.execute_reply.started": "2021-11-26T10:37:45.650872Z"
    },
    "papermill": {
     "duration": 0.09629,
     "end_time": "2021-11-26T10:51:00.198960",
     "exception": false,
     "start_time": "2021-11-26T10:51:00.102670",
     "status": "completed"
    },
    "tags": []
   },
   "outputs": [],
   "source": [
    "import warnings\n",
    "warnings.filterwarnings('ignore')"
   ]
  },
  {
   "cell_type": "markdown",
   "id": "64a5b47a",
   "metadata": {
    "papermill": {
     "duration": 0.090866,
     "end_time": "2021-11-26T10:51:00.382929",
     "exception": false,
     "start_time": "2021-11-26T10:51:00.292063",
     "status": "completed"
    },
    "tags": []
   },
   "source": [
    "Приводим к единому стандарту оформления шрифтов"
   ]
  },
  {
   "cell_type": "code",
   "execution_count": 279,
   "id": "085e9ec4",
   "metadata": {
    "execution": {
     "iopub.execute_input": "2021-11-26T10:51:00.565423Z",
     "iopub.status.busy": "2021-11-26T10:51:00.564632Z",
     "iopub.status.idle": "2021-11-26T10:51:00.568106Z",
     "shell.execute_reply": "2021-11-26T10:51:00.568624Z",
     "shell.execute_reply.started": "2021-11-26T10:37:45.656904Z"
    },
    "papermill": {
     "duration": 0.097009,
     "end_time": "2021-11-26T10:51:00.568808",
     "exception": false,
     "start_time": "2021-11-26T10:51:00.471799",
     "status": "completed"
    },
    "tags": []
   },
   "outputs": [],
   "source": [
    "matplotlib.rcParams.update({'font.size': 14})"
   ]
  },
  {
   "cell_type": "markdown",
   "id": "54905c7d",
   "metadata": {
    "papermill": {
     "duration": 0.088332,
     "end_time": "2021-11-26T10:51:00.745756",
     "exception": false,
     "start_time": "2021-11-26T10:51:00.657424",
     "status": "completed"
    },
    "tags": []
   },
   "source": [
    "Задаем функцию уменьшения обьема данных"
   ]
  },
  {
   "cell_type": "code",
   "execution_count": 280,
   "id": "a223cb22",
   "metadata": {
    "execution": {
     "iopub.execute_input": "2021-11-26T10:51:00.931732Z",
     "iopub.status.busy": "2021-11-26T10:51:00.930990Z",
     "iopub.status.idle": "2021-11-26T10:51:00.940190Z",
     "shell.execute_reply": "2021-11-26T10:51:00.940767Z",
     "shell.execute_reply.started": "2021-11-26T10:37:45.669494Z"
    },
    "papermill": {
     "duration": 0.106652,
     "end_time": "2021-11-26T10:51:00.940952",
     "exception": false,
     "start_time": "2021-11-26T10:51:00.834300",
     "status": "completed"
    },
    "tags": []
   },
   "outputs": [],
   "source": [
    "def reduce_mem_usage(df):\n",
    "    \"\"\" iterate through all the columns of a dataframe and modify the data type\n",
    "        to reduce memory usage.        \n",
    "    \"\"\"\n",
    "    start_mem = df.memory_usage().sum() / 1024**2\n",
    "    print('Memory usage of dataframe is {:.2f} MB'.format(start_mem))\n",
    "    \n",
    "    for col in df.columns:\n",
    "        col_type = df[col].dtype\n",
    "        \n",
    "        if col_type != object:\n",
    "            c_min = df[col].min()\n",
    "            c_max = df[col].max()\n",
    "            if str(col_type)[:3] == 'int':\n",
    "                if c_min > np.iinfo(np.int8).min and c_max < np.iinfo(np.int8).max:\n",
    "                    df[col] = df[col].astype(np.int8)\n",
    "                elif c_min > np.iinfo(np.int16).min and c_max < np.iinfo(np.int16).max:\n",
    "                    df[col] = df[col].astype(np.int16)\n",
    "                elif c_min > np.iinfo(np.int32).min and c_max < np.iinfo(np.int32).max:\n",
    "                    df[col] = df[col].astype(np.int32)\n",
    "                elif c_min > np.iinfo(np.int64).min and c_max < np.iinfo(np.int64).max:\n",
    "                    df[col] = df[col].astype(np.int64)  \n",
    "            else:\n",
    "                if c_min > np.finfo(np.float32).min and c_max < np.finfo(np.float32).max:\n",
    "                    df[col] = df[col].astype(np.float32)\n",
    "                else:\n",
    "                    df[col] = df[col].astype(np.float64)\n",
    "        else:\n",
    "            df[col] = df[col].astype('category')\n",
    "\n",
    "    end_mem = df.memory_usage().sum() / 1024**2\n",
    "    print('Memory usage after optimization is: {:.2f} MB'.format(end_mem))\n",
    "    print('Decreased by {:.1f}%'.format(100 * (start_mem - end_mem) / start_mem))\n",
    "    \n",
    "    return df"
   ]
  },
  {
   "cell_type": "markdown",
   "id": "7224c204",
   "metadata": {
    "papermill": {
     "duration": 0.090443,
     "end_time": "2021-11-26T10:51:01.120561",
     "exception": false,
     "start_time": "2021-11-26T10:51:01.030118",
     "status": "completed"
    },
    "tags": []
   },
   "source": [
    "Задаем функцию подсчёта метрик"
   ]
  },
  {
   "cell_type": "code",
   "execution_count": 281,
   "id": "2839ab4c",
   "metadata": {
    "execution": {
     "iopub.execute_input": "2021-11-26T10:51:01.302271Z",
     "iopub.status.busy": "2021-11-26T10:51:01.301553Z",
     "iopub.status.idle": "2021-11-26T10:51:01.309032Z",
     "shell.execute_reply": "2021-11-26T10:51:01.309619Z",
     "shell.execute_reply.started": "2021-11-26T10:37:45.684583Z"
    },
    "papermill": {
     "duration": 0.100011,
     "end_time": "2021-11-26T10:51:01.309797",
     "exception": false,
     "start_time": "2021-11-26T10:51:01.209786",
     "status": "completed"
    },
    "tags": []
   },
   "outputs": [],
   "source": [
    "def evaluate_preds(train_true_values, train_pred_values, test_true_values, test_pred_values):\n",
    "    print(\"Train R2:\\t\" + str(round(r2(train_true_values, train_pred_values), 3)))\n",
    "    print(\"Test R2:\\t\" + str(round(r2(test_true_values, test_pred_values), 3)))\n",
    "    \n",
    "    plt.figure(figsize=(18,10))\n",
    "    \n",
    "    plt.subplot(121)\n",
    "    sns.scatterplot(x=train_pred_values, y=train_true_values)\n",
    "    plt.xlabel('Predicted values')\n",
    "    plt.ylabel('True values')\n",
    "    plt.title('Train sample prediction')\n",
    "    \n",
    "    plt.subplot(122)\n",
    "    sns.scatterplot(x=test_pred_values, y=test_true_values)\n",
    "    plt.xlabel('Predicted values')\n",
    "    plt.ylabel('True values')\n",
    "    plt.title('Test sample prediction')\n",
    "\n",
    "    plt.show()"
   ]
  },
  {
   "cell_type": "markdown",
   "id": "dc1857ce",
   "metadata": {
    "papermill": {
     "duration": 0.088768,
     "end_time": "2021-11-26T10:51:01.852504",
     "exception": false,
     "start_time": "2021-11-26T10:51:01.763736",
     "status": "completed"
    },
    "tags": []
   },
   "source": [
    "#### **Загрузка данных**\n"
   ]
  },
  {
   "cell_type": "markdown",
   "id": "8c13c037",
   "metadata": {
    "papermill": {
     "duration": 0.090732,
     "end_time": "2021-11-26T10:51:02.032079",
     "exception": false,
     "start_time": "2021-11-26T10:51:01.941347",
     "status": "completed"
    },
    "tags": []
   },
   "source": [
    "\n",
    "\n",
    "**Описание датасета**\n",
    "\n",
    "   - **Id** - идентификационный номер квартиры\n",
    "   - **DistrictId** - идентификационный номер района\n",
    "   - **Rooms** - количество комнат\n",
    "   - **Square** - площадь\n",
    "   - **LifeSquare** - жилая площадь\n",
    "   - **KitchenSquare** - площадь кухни\n",
    "   - **Floor** - этаж\n",
    "   - **HouseFloor** - количество этажей в доме\n",
    "   - **HouseYear** - год постройки дома\n",
    "   - **Ecology_1, Ecology_2, Ecology_3** - экологические показатели местности\n",
    "   - **Social_1, Social_2, Social_3** - социальные показатели местности\n",
    "   - **Healthcare_1, Helthcare_2** - показатели местности, связанные с охраной здоровья\n",
    "   - **Shops_1, Shops_2** - показатели, связанные с наличием магазинов, торговых центров\n",
    "   - **Price** - цена квартиры\n",
    "\n"
   ]
  },
  {
   "cell_type": "markdown",
   "id": "ee853e64",
   "metadata": {
    "papermill": {
     "duration": 0.089095,
     "end_time": "2021-11-26T10:51:02.212657",
     "exception": false,
     "start_time": "2021-11-26T10:51:02.123562",
     "status": "completed"
    },
    "tags": []
   },
   "source": [
    "Загрузим данные и применим функцию reduce_mem_usage для уменьшения их объема."
   ]
  },
  {
   "cell_type": "code",
   "execution_count": 282,
   "id": "0a8880d1",
   "metadata": {
    "execution": {
     "iopub.execute_input": "2021-11-26T10:51:02.396176Z",
     "iopub.status.busy": "2021-11-26T10:51:02.395495Z",
     "iopub.status.idle": "2021-11-26T10:51:02.520521Z",
     "shell.execute_reply": "2021-11-26T10:51:02.521039Z",
     "shell.execute_reply.started": "2021-11-26T10:37:45.718236Z"
    },
    "papermill": {
     "duration": 0.218206,
     "end_time": "2021-11-26T10:51:02.521228",
     "exception": false,
     "start_time": "2021-11-26T10:51:02.303022",
     "status": "completed"
    },
    "tags": []
   },
   "outputs": [
    {
     "name": "stdout",
     "output_type": "stream",
     "text": [
      "Memory usage of dataframe is 1.53 MB\n",
      "Memory usage after optimization is: 0.49 MB\n",
      "Decreased by 68.1%\n"
     ]
    },
    {
     "data": {
      "text/html": [
       "<div>\n",
       "<style scoped>\n",
       "    .dataframe tbody tr th:only-of-type {\n",
       "        vertical-align: middle;\n",
       "    }\n",
       "\n",
       "    .dataframe tbody tr th {\n",
       "        vertical-align: top;\n",
       "    }\n",
       "\n",
       "    .dataframe thead th {\n",
       "        text-align: right;\n",
       "    }\n",
       "</style>\n",
       "<table border=\"1\" class=\"dataframe\">\n",
       "  <thead>\n",
       "    <tr style=\"text-align: right;\">\n",
       "      <th></th>\n",
       "      <th>Id</th>\n",
       "      <th>DistrictId</th>\n",
       "      <th>Rooms</th>\n",
       "      <th>Square</th>\n",
       "      <th>LifeSquare</th>\n",
       "      <th>KitchenSquare</th>\n",
       "      <th>Floor</th>\n",
       "      <th>HouseFloor</th>\n",
       "      <th>HouseYear</th>\n",
       "      <th>Ecology_1</th>\n",
       "      <th>Ecology_2</th>\n",
       "      <th>Ecology_3</th>\n",
       "      <th>Social_1</th>\n",
       "      <th>Social_2</th>\n",
       "      <th>Social_3</th>\n",
       "      <th>Healthcare_1</th>\n",
       "      <th>Helthcare_2</th>\n",
       "      <th>Shops_1</th>\n",
       "      <th>Shops_2</th>\n",
       "      <th>Price</th>\n",
       "    </tr>\n",
       "  </thead>\n",
       "  <tbody>\n",
       "    <tr>\n",
       "      <th>0</th>\n",
       "      <td>11809</td>\n",
       "      <td>27</td>\n",
       "      <td>3.0</td>\n",
       "      <td>115.027313</td>\n",
       "      <td>NaN</td>\n",
       "      <td>10.0</td>\n",
       "      <td>4</td>\n",
       "      <td>10.0</td>\n",
       "      <td>2014</td>\n",
       "      <td>0.075424</td>\n",
       "      <td>B</td>\n",
       "      <td>B</td>\n",
       "      <td>11</td>\n",
       "      <td>3097</td>\n",
       "      <td>0</td>\n",
       "      <td>NaN</td>\n",
       "      <td>0</td>\n",
       "      <td>0</td>\n",
       "      <td>B</td>\n",
       "      <td>305018.875000</td>\n",
       "    </tr>\n",
       "    <tr>\n",
       "      <th>1</th>\n",
       "      <td>3013</td>\n",
       "      <td>22</td>\n",
       "      <td>1.0</td>\n",
       "      <td>39.832523</td>\n",
       "      <td>23.169222</td>\n",
       "      <td>8.0</td>\n",
       "      <td>7</td>\n",
       "      <td>8.0</td>\n",
       "      <td>1966</td>\n",
       "      <td>0.118537</td>\n",
       "      <td>B</td>\n",
       "      <td>B</td>\n",
       "      <td>30</td>\n",
       "      <td>6207</td>\n",
       "      <td>1</td>\n",
       "      <td>1183.0</td>\n",
       "      <td>1</td>\n",
       "      <td>0</td>\n",
       "      <td>B</td>\n",
       "      <td>177734.546875</td>\n",
       "    </tr>\n",
       "    <tr>\n",
       "      <th>2</th>\n",
       "      <td>8215</td>\n",
       "      <td>1</td>\n",
       "      <td>3.0</td>\n",
       "      <td>78.342216</td>\n",
       "      <td>47.671970</td>\n",
       "      <td>10.0</td>\n",
       "      <td>2</td>\n",
       "      <td>17.0</td>\n",
       "      <td>1988</td>\n",
       "      <td>0.025609</td>\n",
       "      <td>B</td>\n",
       "      <td>B</td>\n",
       "      <td>33</td>\n",
       "      <td>5261</td>\n",
       "      <td>0</td>\n",
       "      <td>240.0</td>\n",
       "      <td>3</td>\n",
       "      <td>1</td>\n",
       "      <td>B</td>\n",
       "      <td>282078.718750</td>\n",
       "    </tr>\n",
       "    <tr>\n",
       "      <th>3</th>\n",
       "      <td>2352</td>\n",
       "      <td>1</td>\n",
       "      <td>1.0</td>\n",
       "      <td>40.409908</td>\n",
       "      <td>NaN</td>\n",
       "      <td>1.0</td>\n",
       "      <td>10</td>\n",
       "      <td>22.0</td>\n",
       "      <td>1977</td>\n",
       "      <td>0.007122</td>\n",
       "      <td>B</td>\n",
       "      <td>B</td>\n",
       "      <td>1</td>\n",
       "      <td>264</td>\n",
       "      <td>0</td>\n",
       "      <td>NaN</td>\n",
       "      <td>0</td>\n",
       "      <td>1</td>\n",
       "      <td>B</td>\n",
       "      <td>168106.000000</td>\n",
       "    </tr>\n",
       "    <tr>\n",
       "      <th>4</th>\n",
       "      <td>13866</td>\n",
       "      <td>94</td>\n",
       "      <td>2.0</td>\n",
       "      <td>64.285065</td>\n",
       "      <td>38.562515</td>\n",
       "      <td>9.0</td>\n",
       "      <td>16</td>\n",
       "      <td>16.0</td>\n",
       "      <td>1972</td>\n",
       "      <td>0.282798</td>\n",
       "      <td>B</td>\n",
       "      <td>B</td>\n",
       "      <td>33</td>\n",
       "      <td>8667</td>\n",
       "      <td>2</td>\n",
       "      <td>NaN</td>\n",
       "      <td>0</td>\n",
       "      <td>6</td>\n",
       "      <td>B</td>\n",
       "      <td>343995.093750</td>\n",
       "    </tr>\n",
       "  </tbody>\n",
       "</table>\n",
       "</div>"
      ],
      "text/plain": [
       "      Id  DistrictId  Rooms      Square  LifeSquare  KitchenSquare  Floor  \\\n",
       "0  11809          27    3.0  115.027313         NaN           10.0      4   \n",
       "1   3013          22    1.0   39.832523   23.169222            8.0      7   \n",
       "2   8215           1    3.0   78.342216   47.671970           10.0      2   \n",
       "3   2352           1    1.0   40.409908         NaN            1.0     10   \n",
       "4  13866          94    2.0   64.285065   38.562515            9.0     16   \n",
       "\n",
       "   HouseFloor  HouseYear  Ecology_1 Ecology_2 Ecology_3  Social_1  Social_2  \\\n",
       "0        10.0       2014   0.075424         B         B        11      3097   \n",
       "1         8.0       1966   0.118537         B         B        30      6207   \n",
       "2        17.0       1988   0.025609         B         B        33      5261   \n",
       "3        22.0       1977   0.007122         B         B         1       264   \n",
       "4        16.0       1972   0.282798         B         B        33      8667   \n",
       "\n",
       "   Social_3  Healthcare_1  Helthcare_2  Shops_1 Shops_2          Price  \n",
       "0         0           NaN            0        0       B  305018.875000  \n",
       "1         1        1183.0            1        0       B  177734.546875  \n",
       "2         0         240.0            3        1       B  282078.718750  \n",
       "3         0           NaN            0        1       B  168106.000000  \n",
       "4         2           NaN            0        6       B  343995.093750  "
      ]
     },
     "execution_count": 282,
     "metadata": {},
     "output_type": "execute_result"
    }
   ],
   "source": [
    "train_df = pd.read_csv('train.csv')\n",
    "train_df = reduce_mem_usage(train_df)\n",
    "train_df.head()"
   ]
  },
  {
   "cell_type": "code",
   "execution_count": 283,
   "id": "8980e53a",
   "metadata": {
    "execution": {
     "iopub.execute_input": "2021-11-26T10:51:02.711485Z",
     "iopub.status.busy": "2021-11-26T10:51:02.710536Z",
     "iopub.status.idle": "2021-11-26T10:51:02.714001Z",
     "shell.execute_reply": "2021-11-26T10:51:02.714507Z",
     "shell.execute_reply.started": "2021-11-26T10:37:45.814489Z"
    },
    "papermill": {
     "duration": 0.10201,
     "end_time": "2021-11-26T10:51:02.714683",
     "exception": false,
     "start_time": "2021-11-26T10:51:02.612673",
     "status": "completed"
    },
    "tags": []
   },
   "outputs": [
    {
     "data": {
      "text/plain": [
       "Id                  int16\n",
       "DistrictId          int16\n",
       "Rooms             float32\n",
       "Square            float32\n",
       "LifeSquare        float32\n",
       "KitchenSquare     float32\n",
       "Floor                int8\n",
       "HouseFloor        float32\n",
       "HouseYear           int32\n",
       "Ecology_1         float32\n",
       "Ecology_2        category\n",
       "Ecology_3        category\n",
       "Social_1             int8\n",
       "Social_2            int16\n",
       "Social_3            int16\n",
       "Healthcare_1      float32\n",
       "Helthcare_2          int8\n",
       "Shops_1              int8\n",
       "Shops_2          category\n",
       "Price             float32\n",
       "dtype: object"
      ]
     },
     "execution_count": 283,
     "metadata": {},
     "output_type": "execute_result"
    }
   ],
   "source": [
    "train_df.dtypes"
   ]
  },
  {
   "cell_type": "code",
   "execution_count": 284,
   "id": "28518bd1",
   "metadata": {
    "execution": {
     "iopub.execute_input": "2021-11-26T10:51:02.901892Z",
     "iopub.status.busy": "2021-11-26T10:51:02.900819Z",
     "iopub.status.idle": "2021-11-26T10:51:02.950304Z",
     "shell.execute_reply": "2021-11-26T10:51:02.950900Z",
     "shell.execute_reply.started": "2021-11-26T10:37:45.824118Z"
    },
    "papermill": {
     "duration": 0.144744,
     "end_time": "2021-11-26T10:51:02.951105",
     "exception": false,
     "start_time": "2021-11-26T10:51:02.806361",
     "status": "completed"
    },
    "tags": []
   },
   "outputs": [
    {
     "data": {
      "text/html": [
       "<div>\n",
       "<style scoped>\n",
       "    .dataframe tbody tr th:only-of-type {\n",
       "        vertical-align: middle;\n",
       "    }\n",
       "\n",
       "    .dataframe tbody tr th {\n",
       "        vertical-align: top;\n",
       "    }\n",
       "\n",
       "    .dataframe thead th {\n",
       "        text-align: right;\n",
       "    }\n",
       "</style>\n",
       "<table border=\"1\" class=\"dataframe\">\n",
       "  <thead>\n",
       "    <tr style=\"text-align: right;\">\n",
       "      <th></th>\n",
       "      <th>Id</th>\n",
       "      <th>DistrictId</th>\n",
       "      <th>Rooms</th>\n",
       "      <th>Square</th>\n",
       "      <th>LifeSquare</th>\n",
       "      <th>KitchenSquare</th>\n",
       "      <th>Floor</th>\n",
       "      <th>HouseFloor</th>\n",
       "      <th>HouseYear</th>\n",
       "      <th>Ecology_1</th>\n",
       "      <th>Ecology_2</th>\n",
       "      <th>Ecology_3</th>\n",
       "      <th>Social_1</th>\n",
       "      <th>Social_2</th>\n",
       "      <th>Social_3</th>\n",
       "      <th>Healthcare_1</th>\n",
       "      <th>Helthcare_2</th>\n",
       "      <th>Shops_1</th>\n",
       "      <th>Shops_2</th>\n",
       "    </tr>\n",
       "  </thead>\n",
       "  <tbody>\n",
       "    <tr>\n",
       "      <th>0</th>\n",
       "      <td>4567</td>\n",
       "      <td>44</td>\n",
       "      <td>1.0</td>\n",
       "      <td>36.847630</td>\n",
       "      <td>19.094182</td>\n",
       "      <td>5.0</td>\n",
       "      <td>5</td>\n",
       "      <td>9.0</td>\n",
       "      <td>1970</td>\n",
       "      <td>0.036122</td>\n",
       "      <td>B</td>\n",
       "      <td>B</td>\n",
       "      <td>24</td>\n",
       "      <td>4378</td>\n",
       "      <td>0</td>\n",
       "      <td>1036.0</td>\n",
       "      <td>1</td>\n",
       "      <td>1</td>\n",
       "      <td>B</td>\n",
       "    </tr>\n",
       "    <tr>\n",
       "      <th>1</th>\n",
       "      <td>5925</td>\n",
       "      <td>62</td>\n",
       "      <td>1.0</td>\n",
       "      <td>42.493907</td>\n",
       "      <td>42.568133</td>\n",
       "      <td>10.0</td>\n",
       "      <td>7</td>\n",
       "      <td>17.0</td>\n",
       "      <td>2017</td>\n",
       "      <td>0.072158</td>\n",
       "      <td>B</td>\n",
       "      <td>B</td>\n",
       "      <td>2</td>\n",
       "      <td>629</td>\n",
       "      <td>1</td>\n",
       "      <td>NaN</td>\n",
       "      <td>0</td>\n",
       "      <td>0</td>\n",
       "      <td>A</td>\n",
       "    </tr>\n",
       "    <tr>\n",
       "      <th>2</th>\n",
       "      <td>960</td>\n",
       "      <td>27</td>\n",
       "      <td>2.0</td>\n",
       "      <td>59.463678</td>\n",
       "      <td>NaN</td>\n",
       "      <td>9.0</td>\n",
       "      <td>19</td>\n",
       "      <td>19.0</td>\n",
       "      <td>1977</td>\n",
       "      <td>0.211401</td>\n",
       "      <td>B</td>\n",
       "      <td>B</td>\n",
       "      <td>9</td>\n",
       "      <td>1892</td>\n",
       "      <td>0</td>\n",
       "      <td>NaN</td>\n",
       "      <td>0</td>\n",
       "      <td>1</td>\n",
       "      <td>B</td>\n",
       "    </tr>\n",
       "    <tr>\n",
       "      <th>3</th>\n",
       "      <td>3848</td>\n",
       "      <td>23</td>\n",
       "      <td>3.0</td>\n",
       "      <td>49.646030</td>\n",
       "      <td>33.893825</td>\n",
       "      <td>6.0</td>\n",
       "      <td>2</td>\n",
       "      <td>2.0</td>\n",
       "      <td>1965</td>\n",
       "      <td>0.014073</td>\n",
       "      <td>B</td>\n",
       "      <td>B</td>\n",
       "      <td>2</td>\n",
       "      <td>475</td>\n",
       "      <td>0</td>\n",
       "      <td>NaN</td>\n",
       "      <td>0</td>\n",
       "      <td>0</td>\n",
       "      <td>B</td>\n",
       "    </tr>\n",
       "    <tr>\n",
       "      <th>4</th>\n",
       "      <td>746</td>\n",
       "      <td>74</td>\n",
       "      <td>1.0</td>\n",
       "      <td>53.837056</td>\n",
       "      <td>NaN</td>\n",
       "      <td>1.0</td>\n",
       "      <td>8</td>\n",
       "      <td>17.0</td>\n",
       "      <td>1977</td>\n",
       "      <td>0.309479</td>\n",
       "      <td>B</td>\n",
       "      <td>B</td>\n",
       "      <td>35</td>\n",
       "      <td>7715</td>\n",
       "      <td>4</td>\n",
       "      <td>990.0</td>\n",
       "      <td>0</td>\n",
       "      <td>6</td>\n",
       "      <td>B</td>\n",
       "    </tr>\n",
       "  </tbody>\n",
       "</table>\n",
       "</div>"
      ],
      "text/plain": [
       "     Id  DistrictId  Rooms     Square  LifeSquare  KitchenSquare  Floor  \\\n",
       "0  4567          44    1.0  36.847630   19.094182            5.0      5   \n",
       "1  5925          62    1.0  42.493907   42.568133           10.0      7   \n",
       "2   960          27    2.0  59.463678         NaN            9.0     19   \n",
       "3  3848          23    3.0  49.646030   33.893825            6.0      2   \n",
       "4   746          74    1.0  53.837056         NaN            1.0      8   \n",
       "\n",
       "   HouseFloor  HouseYear  Ecology_1 Ecology_2 Ecology_3  Social_1  Social_2  \\\n",
       "0         9.0       1970   0.036122         B         B        24      4378   \n",
       "1        17.0       2017   0.072158         B         B         2       629   \n",
       "2        19.0       1977   0.211401         B         B         9      1892   \n",
       "3         2.0       1965   0.014073         B         B         2       475   \n",
       "4        17.0       1977   0.309479         B         B        35      7715   \n",
       "\n",
       "   Social_3  Healthcare_1  Helthcare_2  Shops_1 Shops_2  \n",
       "0         0        1036.0            1        1       B  \n",
       "1         1           NaN            0        0       A  \n",
       "2         0           NaN            0        1       B  \n",
       "3         0           NaN            0        0       B  \n",
       "4         4         990.0            0        6       B  "
      ]
     },
     "execution_count": 284,
     "metadata": {},
     "output_type": "execute_result"
    }
   ],
   "source": [
    "test_df = pd.read_csv('test.csv')\n",
    "test_df.head()"
   ]
  },
  {
   "cell_type": "code",
   "execution_count": 285,
   "id": "e1a35f56",
   "metadata": {
    "execution": {
     "iopub.execute_input": "2021-11-26T10:51:03.141934Z",
     "iopub.status.busy": "2021-11-26T10:51:03.139452Z",
     "iopub.status.idle": "2021-11-26T10:51:03.144787Z",
     "shell.execute_reply": "2021-11-26T10:51:03.145394Z",
     "shell.execute_reply.started": "2021-11-26T10:37:45.872914Z"
    },
    "papermill": {
     "duration": 0.102507,
     "end_time": "2021-11-26T10:51:03.145574",
     "exception": false,
     "start_time": "2021-11-26T10:51:03.043067",
     "status": "completed"
    },
    "tags": []
   },
   "outputs": [
    {
     "data": {
      "text/plain": [
       "(10000, 20)"
      ]
     },
     "execution_count": 285,
     "metadata": {},
     "output_type": "execute_result"
    }
   ],
   "source": [
    "train_df.shape"
   ]
  },
  {
   "cell_type": "code",
   "execution_count": 286,
   "id": "af0951c4",
   "metadata": {
    "execution": {
     "iopub.execute_input": "2021-11-26T10:51:03.333751Z",
     "iopub.status.busy": "2021-11-26T10:51:03.333018Z",
     "iopub.status.idle": "2021-11-26T10:51:03.337702Z",
     "shell.execute_reply": "2021-11-26T10:51:03.338522Z",
     "shell.execute_reply.started": "2021-11-26T10:37:45.880637Z"
    },
    "papermill": {
     "duration": 0.099327,
     "end_time": "2021-11-26T10:51:03.338720",
     "exception": false,
     "start_time": "2021-11-26T10:51:03.239393",
     "status": "completed"
    },
    "tags": []
   },
   "outputs": [
    {
     "data": {
      "text/plain": [
       "(5000, 19)"
      ]
     },
     "execution_count": 286,
     "metadata": {},
     "output_type": "execute_result"
    }
   ],
   "source": [
    "test_df.shape"
   ]
  },
  {
   "cell_type": "markdown",
   "id": "533c5071",
   "metadata": {
    "papermill": {
     "duration": 0.091008,
     "end_time": "2021-11-26T10:51:03.522271",
     "exception": false,
     "start_time": "2021-11-26T10:51:03.431263",
     "status": "completed"
    },
    "tags": []
   },
   "source": [
    "Количество строк в тесте и трейне"
   ]
  },
  {
   "cell_type": "code",
   "execution_count": 287,
   "id": "996f60fd",
   "metadata": {
    "execution": {
     "iopub.execute_input": "2021-11-26T10:51:03.713596Z",
     "iopub.status.busy": "2021-11-26T10:51:03.712856Z",
     "iopub.status.idle": "2021-11-26T10:51:03.718952Z",
     "shell.execute_reply": "2021-11-26T10:51:03.718307Z",
     "shell.execute_reply.started": "2021-11-26T10:37:45.894280Z"
    },
    "papermill": {
     "duration": 0.103196,
     "end_time": "2021-11-26T10:51:03.719236",
     "exception": false,
     "start_time": "2021-11-26T10:51:03.616040",
     "status": "completed"
    },
    "tags": []
   },
   "outputs": [
    {
     "name": "stdout",
     "output_type": "stream",
     "text": [
      "Строк в трейне: 10000\n",
      "Строк в тесте 5000\n"
     ]
    }
   ],
   "source": [
    "print('Строк в трейне:', train_df.shape[0])\n",
    "print('Строк в тесте', test_df.shape[0])"
   ]
  },
  {
   "cell_type": "code",
   "execution_count": 288,
   "id": "2ba6f87b",
   "metadata": {
    "execution": {
     "iopub.execute_input": "2021-11-26T10:51:03.909459Z",
     "iopub.status.busy": "2021-11-26T10:51:03.908369Z",
     "iopub.status.idle": "2021-11-26T10:51:03.914376Z",
     "shell.execute_reply": "2021-11-26T10:51:03.914902Z",
     "shell.execute_reply.started": "2021-11-26T10:37:45.908209Z"
    },
    "papermill": {
     "duration": 0.103339,
     "end_time": "2021-11-26T10:51:03.915106",
     "exception": false,
     "start_time": "2021-11-26T10:51:03.811767",
     "status": "completed"
    },
    "tags": []
   },
   "outputs": [
    {
     "data": {
      "text/plain": [
       "True"
      ]
     },
     "execution_count": 288,
     "metadata": {},
     "output_type": "execute_result"
    }
   ],
   "source": [
    "train_df.shape[1] - 1 == test_df.shape[1]"
   ]
  },
  {
   "cell_type": "markdown",
   "id": "956ce4ed",
   "metadata": {
    "papermill": {
     "duration": 0.092311,
     "end_time": "2021-11-26T10:51:04.100390",
     "exception": false,
     "start_time": "2021-11-26T10:51:04.008079",
     "status": "completed"
    },
    "tags": []
   },
   "source": [
    "#### **Приведение типов**"
   ]
  },
  {
   "cell_type": "markdown",
   "id": "d05999bc",
   "metadata": {
    "papermill": {
     "duration": 0.092494,
     "end_time": "2021-11-26T10:51:04.285429",
     "exception": false,
     "start_time": "2021-11-26T10:51:04.192935",
     "status": "completed"
    },
    "tags": []
   },
   "source": [
    "Приводим типы данных признаков 'Id' и 'DistrictId' в категориальные"
   ]
  },
  {
   "cell_type": "code",
   "execution_count": 289,
   "id": "9b0312c9",
   "metadata": {
    "execution": {
     "iopub.execute_input": "2021-11-26T10:51:04.477432Z",
     "iopub.status.busy": "2021-11-26T10:51:04.476322Z",
     "iopub.status.idle": "2021-11-26T10:51:04.486634Z",
     "shell.execute_reply": "2021-11-26T10:51:04.487183Z",
     "shell.execute_reply.started": "2021-11-26T10:37:45.920443Z"
    },
    "papermill": {
     "duration": 0.109967,
     "end_time": "2021-11-26T10:51:04.487400",
     "exception": false,
     "start_time": "2021-11-26T10:51:04.377433",
     "status": "completed"
    },
    "tags": []
   },
   "outputs": [],
   "source": [
    "train_df['Id'] = train_df['Id'].astype('category')\n",
    "train_df['DistrictId'] = train_df['DistrictId'].astype('category') "
   ]
  },
  {
   "cell_type": "markdown",
   "id": "8149ac62",
   "metadata": {
    "papermill": {
     "duration": 0.096554,
     "end_time": "2021-11-26T10:51:04.679235",
     "exception": false,
     "start_time": "2021-11-26T10:51:04.582681",
     "status": "completed"
    },
    "tags": []
   },
   "source": [
    "#### **1. EDA**"
   ]
  },
  {
   "cell_type": "markdown",
   "id": "df1df05a",
   "metadata": {
    "papermill": {
     "duration": 0.093484,
     "end_time": "2021-11-26T10:51:04.869148",
     "exception": false,
     "start_time": "2021-11-26T10:51:04.775664",
     "status": "completed"
    },
    "tags": []
   },
   "source": [
    "#### **Целевая переменная.**"
   ]
  },
  {
   "cell_type": "markdown",
   "id": "f28cf59a",
   "metadata": {
    "papermill": {
     "duration": 0.092763,
     "end_time": "2021-11-26T10:51:05.053660",
     "exception": false,
     "start_time": "2021-11-26T10:51:04.960897",
     "status": "completed"
    },
    "tags": []
   },
   "source": [
    "Строим гистограмму, чтобы визуализировать распределение таргета."
   ]
  },
  {
   "cell_type": "code",
   "execution_count": 290,
   "id": "128632a8",
   "metadata": {
    "execution": {
     "iopub.execute_input": "2021-11-26T10:51:05.249882Z",
     "iopub.status.busy": "2021-11-26T10:51:05.249220Z",
     "iopub.status.idle": "2021-11-26T10:51:05.592407Z",
     "shell.execute_reply": "2021-11-26T10:51:05.591849Z",
     "shell.execute_reply.started": "2021-11-26T10:37:45.933630Z"
    },
    "papermill": {
     "duration": 0.44335,
     "end_time": "2021-11-26T10:51:05.592560",
     "exception": false,
     "start_time": "2021-11-26T10:51:05.149210",
     "status": "completed"
    },
    "tags": []
   },
   "outputs": [
    {
     "data": {
      "image/png": "[encoded data removed]",
      "text/plain": [
       "<Figure size 1152x576 with 1 Axes>"
      ]
     },
     "metadata": {
      "needs_background": "light"
     },
     "output_type": "display_data"
    }
   ],
   "source": [
    "plt.figure(figsize = (16, 8))\n",
    "\n",
    "train_df['Price'].hist(bins=30)\n",
    "plt.ylabel('Count')\n",
    "plt.xlabel('Price')\n",
    "\n",
    "plt.title('Target distribution')\n",
    "plt.show()"
   ]
  },
  {
   "cell_type": "markdown",
   "id": "f303fbff",
   "metadata": {
    "papermill": {
     "duration": 0.091933,
     "end_time": "2021-11-26T10:51:05.779069",
     "exception": false,
     "start_time": "2021-11-26T10:51:05.687136",
     "status": "completed"
    },
    "tags": []
   },
   "source": [
    "Распределение равномерное. Выбросы не наблюдаем."
   ]
  },
  {
   "cell_type": "markdown",
   "id": "99466dd8",
   "metadata": {
    "papermill": {
     "duration": 0.093748,
     "end_time": "2021-11-26T10:51:05.965120",
     "exception": false,
     "start_time": "2021-11-26T10:51:05.871372",
     "status": "completed"
    },
    "tags": []
   },
   "source": [
    "#### **Количественные переменные**"
   ]
  },
  {
   "cell_type": "code",
   "execution_count": 291,
   "id": "241568fb",
   "metadata": {
    "execution": {
     "iopub.execute_input": "2021-11-26T10:51:06.176175Z",
     "iopub.status.busy": "2021-11-26T10:51:06.175267Z",
     "iopub.status.idle": "2021-11-26T10:51:06.253911Z",
     "shell.execute_reply": "2021-11-26T10:51:06.254448Z",
     "shell.execute_reply.started": "2021-11-26T10:37:46.251579Z"
    },
    "papermill": {
     "duration": 0.196092,
     "end_time": "2021-11-26T10:51:06.254645",
     "exception": false,
     "start_time": "2021-11-26T10:51:06.058553",
     "status": "completed"
    },
    "tags": []
   },
   "outputs": [
    {
     "data": {
      "text/html": [
       "<div>\n",
       "<style scoped>\n",
       "    .dataframe tbody tr th:only-of-type {\n",
       "        vertical-align: middle;\n",
       "    }\n",
       "\n",
       "    .dataframe tbody tr th {\n",
       "        vertical-align: top;\n",
       "    }\n",
       "\n",
       "    .dataframe thead th {\n",
       "        text-align: right;\n",
       "    }\n",
       "</style>\n",
       "<table border=\"1\" class=\"dataframe\">\n",
       "  <thead>\n",
       "    <tr style=\"text-align: right;\">\n",
       "      <th></th>\n",
       "      <th>count</th>\n",
       "      <th>mean</th>\n",
       "      <th>std</th>\n",
       "      <th>min</th>\n",
       "      <th>25%</th>\n",
       "      <th>50%</th>\n",
       "      <th>75%</th>\n",
       "      <th>max</th>\n",
       "    </tr>\n",
       "  </thead>\n",
       "  <tbody>\n",
       "    <tr>\n",
       "      <th>Rooms</th>\n",
       "      <td>10000.0</td>\n",
       "      <td>1.890500</td>\n",
       "      <td>0.839522</td>\n",
       "      <td>0.000000</td>\n",
       "      <td>1.000000</td>\n",
       "      <td>2.000000</td>\n",
       "      <td>2.000000</td>\n",
       "      <td>1.900000e+01</td>\n",
       "    </tr>\n",
       "    <tr>\n",
       "      <th>Square</th>\n",
       "      <td>10000.0</td>\n",
       "      <td>56.315720</td>\n",
       "      <td>21.058716</td>\n",
       "      <td>1.136859</td>\n",
       "      <td>41.774879</td>\n",
       "      <td>52.513309</td>\n",
       "      <td>65.900627</td>\n",
       "      <td>6.410652e+02</td>\n",
       "    </tr>\n",
       "    <tr>\n",
       "      <th>LifeSquare</th>\n",
       "      <td>7887.0</td>\n",
       "      <td>37.199665</td>\n",
       "      <td>86.241219</td>\n",
       "      <td>0.370619</td>\n",
       "      <td>22.769833</td>\n",
       "      <td>32.781261</td>\n",
       "      <td>45.128803</td>\n",
       "      <td>7.480592e+03</td>\n",
       "    </tr>\n",
       "    <tr>\n",
       "      <th>KitchenSquare</th>\n",
       "      <td>10000.0</td>\n",
       "      <td>6.273300</td>\n",
       "      <td>28.560839</td>\n",
       "      <td>0.000000</td>\n",
       "      <td>1.000000</td>\n",
       "      <td>6.000000</td>\n",
       "      <td>9.000000</td>\n",
       "      <td>2.014000e+03</td>\n",
       "    </tr>\n",
       "    <tr>\n",
       "      <th>Floor</th>\n",
       "      <td>10000.0</td>\n",
       "      <td>8.526700</td>\n",
       "      <td>5.241148</td>\n",
       "      <td>1.000000</td>\n",
       "      <td>4.000000</td>\n",
       "      <td>7.000000</td>\n",
       "      <td>12.000000</td>\n",
       "      <td>4.200000e+01</td>\n",
       "    </tr>\n",
       "    <tr>\n",
       "      <th>HouseFloor</th>\n",
       "      <td>10000.0</td>\n",
       "      <td>12.609400</td>\n",
       "      <td>6.776200</td>\n",
       "      <td>0.000000</td>\n",
       "      <td>9.000000</td>\n",
       "      <td>13.000000</td>\n",
       "      <td>17.000000</td>\n",
       "      <td>1.170000e+02</td>\n",
       "    </tr>\n",
       "    <tr>\n",
       "      <th>HouseYear</th>\n",
       "      <td>10000.0</td>\n",
       "      <td>3990.166300</td>\n",
       "      <td>200500.261427</td>\n",
       "      <td>1910.000000</td>\n",
       "      <td>1974.000000</td>\n",
       "      <td>1977.000000</td>\n",
       "      <td>2001.000000</td>\n",
       "      <td>2.005201e+07</td>\n",
       "    </tr>\n",
       "    <tr>\n",
       "      <th>Ecology_1</th>\n",
       "      <td>10000.0</td>\n",
       "      <td>0.118858</td>\n",
       "      <td>0.119025</td>\n",
       "      <td>0.000000</td>\n",
       "      <td>0.017647</td>\n",
       "      <td>0.075424</td>\n",
       "      <td>0.195781</td>\n",
       "      <td>5.218670e-01</td>\n",
       "    </tr>\n",
       "    <tr>\n",
       "      <th>Social_1</th>\n",
       "      <td>10000.0</td>\n",
       "      <td>24.687000</td>\n",
       "      <td>17.532614</td>\n",
       "      <td>0.000000</td>\n",
       "      <td>6.000000</td>\n",
       "      <td>25.000000</td>\n",
       "      <td>36.000000</td>\n",
       "      <td>7.400000e+01</td>\n",
       "    </tr>\n",
       "    <tr>\n",
       "      <th>Social_2</th>\n",
       "      <td>10000.0</td>\n",
       "      <td>5352.157400</td>\n",
       "      <td>4006.799803</td>\n",
       "      <td>168.000000</td>\n",
       "      <td>1564.000000</td>\n",
       "      <td>5285.000000</td>\n",
       "      <td>7227.000000</td>\n",
       "      <td>1.908300e+04</td>\n",
       "    </tr>\n",
       "    <tr>\n",
       "      <th>Social_3</th>\n",
       "      <td>10000.0</td>\n",
       "      <td>8.039200</td>\n",
       "      <td>23.831875</td>\n",
       "      <td>0.000000</td>\n",
       "      <td>0.000000</td>\n",
       "      <td>2.000000</td>\n",
       "      <td>5.000000</td>\n",
       "      <td>1.410000e+02</td>\n",
       "    </tr>\n",
       "    <tr>\n",
       "      <th>Healthcare_1</th>\n",
       "      <td>5202.0</td>\n",
       "      <td>1142.904419</td>\n",
       "      <td>1021.519470</td>\n",
       "      <td>0.000000</td>\n",
       "      <td>350.000000</td>\n",
       "      <td>900.000000</td>\n",
       "      <td>1548.000000</td>\n",
       "      <td>4.849000e+03</td>\n",
       "    </tr>\n",
       "    <tr>\n",
       "      <th>Helthcare_2</th>\n",
       "      <td>10000.0</td>\n",
       "      <td>1.319500</td>\n",
       "      <td>1.493601</td>\n",
       "      <td>0.000000</td>\n",
       "      <td>0.000000</td>\n",
       "      <td>1.000000</td>\n",
       "      <td>2.000000</td>\n",
       "      <td>6.000000e+00</td>\n",
       "    </tr>\n",
       "    <tr>\n",
       "      <th>Shops_1</th>\n",
       "      <td>10000.0</td>\n",
       "      <td>4.231300</td>\n",
       "      <td>4.806341</td>\n",
       "      <td>0.000000</td>\n",
       "      <td>1.000000</td>\n",
       "      <td>3.000000</td>\n",
       "      <td>6.000000</td>\n",
       "      <td>2.300000e+01</td>\n",
       "    </tr>\n",
       "    <tr>\n",
       "      <th>Price</th>\n",
       "      <td>10000.0</td>\n",
       "      <td>214138.937500</td>\n",
       "      <td>92872.273438</td>\n",
       "      <td>59174.777344</td>\n",
       "      <td>153872.628906</td>\n",
       "      <td>192269.648438</td>\n",
       "      <td>249135.460938</td>\n",
       "      <td>6.332334e+05</td>\n",
       "    </tr>\n",
       "  </tbody>\n",
       "</table>\n",
       "</div>"
      ],
      "text/plain": [
       "                 count           mean            std           min  \\\n",
       "Rooms          10000.0       1.890500       0.839522      0.000000   \n",
       "Square         10000.0      56.315720      21.058716      1.136859   \n",
       "LifeSquare      7887.0      37.199665      86.241219      0.370619   \n",
       "KitchenSquare  10000.0       6.273300      28.560839      0.000000   \n",
       "Floor          10000.0       8.526700       5.241148      1.000000   \n",
       "HouseFloor     10000.0      12.609400       6.776200      0.000000   \n",
       "HouseYear      10000.0    3990.166300  200500.261427   1910.000000   \n",
       "Ecology_1      10000.0       0.118858       0.119025      0.000000   \n",
       "Social_1       10000.0      24.687000      17.532614      0.000000   \n",
       "Social_2       10000.0    5352.157400    4006.799803    168.000000   \n",
       "Social_3       10000.0       8.039200      23.831875      0.000000   \n",
       "Healthcare_1    5202.0    1142.904419    1021.519470      0.000000   \n",
       "Helthcare_2    10000.0       1.319500       1.493601      0.000000   \n",
       "Shops_1        10000.0       4.231300       4.806341      0.000000   \n",
       "Price          10000.0  214138.937500   92872.273438  59174.777344   \n",
       "\n",
       "                         25%            50%            75%           max  \n",
       "Rooms               1.000000       2.000000       2.000000  1.900000e+01  \n",
       "Square             41.774879      52.513309      65.900627  6.410652e+02  \n",
       "LifeSquare         22.769833      32.781261      45.128803  7.480592e+03  \n",
       "KitchenSquare       1.000000       6.000000       9.000000  2.014000e+03  \n",
       "Floor               4.000000       7.000000      12.000000  4.200000e+01  \n",
       "HouseFloor          9.000000      13.000000      17.000000  1.170000e+02  \n",
       "HouseYear        1974.000000    1977.000000    2001.000000  2.005201e+07  \n",
       "Ecology_1           0.017647       0.075424       0.195781  5.218670e-01  \n",
       "Social_1            6.000000      25.000000      36.000000  7.400000e+01  \n",
       "Social_2         1564.000000    5285.000000    7227.000000  1.908300e+04  \n",
       "Social_3            0.000000       2.000000       5.000000  1.410000e+02  \n",
       "Healthcare_1      350.000000     900.000000    1548.000000  4.849000e+03  \n",
       "Helthcare_2         0.000000       1.000000       2.000000  6.000000e+00  \n",
       "Shops_1             1.000000       3.000000       6.000000  2.300000e+01  \n",
       "Price          153872.628906  192269.648438  249135.460938  6.332334e+05  "
      ]
     },
     "execution_count": 291,
     "metadata": {},
     "output_type": "execute_result"
    }
   ],
   "source": [
    "train_df.describe().T"
   ]
  },
  {
   "cell_type": "markdown",
   "id": "10d807d4",
   "metadata": {
    "execution": {
     "iopub.execute_input": "2021-11-24T05:34:26.261499Z",
     "iopub.status.busy": "2021-11-24T05:34:26.260475Z",
     "iopub.status.idle": "2021-11-24T05:34:26.268022Z",
     "shell.execute_reply": "2021-11-24T05:34:26.266953Z",
     "shell.execute_reply.started": "2021-11-24T05:34:26.261451Z"
    },
    "papermill": {
     "duration": 0.108964,
     "end_time": "2021-11-26T10:51:06.463321",
     "exception": false,
     "start_time": "2021-11-26T10:51:06.354357",
     "status": "completed"
    },
    "tags": []
   },
   "source": [
    "Видим пропуски и аномалии в цифрах(выбросы)."
   ]
  },
  {
   "cell_type": "markdown",
   "id": "5b24dfbc",
   "metadata": {
    "papermill": {
     "duration": 0.09441,
     "end_time": "2021-11-26T10:51:06.652876",
     "exception": false,
     "start_time": "2021-11-26T10:51:06.558466",
     "status": "completed"
    },
    "tags": []
   },
   "source": [
    "#### **Номинативные переменные**"
   ]
  },
  {
   "cell_type": "code",
   "execution_count": 292,
   "id": "e0a65619",
   "metadata": {
    "execution": {
     "iopub.execute_input": "2021-11-26T10:51:06.846335Z",
     "iopub.status.busy": "2021-11-26T10:51:06.845600Z",
     "iopub.status.idle": "2021-11-26T10:51:06.854767Z",
     "shell.execute_reply": "2021-11-26T10:51:06.855369Z",
     "shell.execute_reply.started": "2021-11-26T10:37:46.313081Z"
    },
    "papermill": {
     "duration": 0.107612,
     "end_time": "2021-11-26T10:51:06.855552",
     "exception": false,
     "start_time": "2021-11-26T10:51:06.747940",
     "status": "completed"
    },
    "tags": []
   },
   "outputs": [
    {
     "data": {
      "text/plain": [
       "['Id', 'DistrictId', 'Ecology_2', 'Ecology_3', 'Shops_2']"
      ]
     },
     "execution_count": 292,
     "metadata": {},
     "output_type": "execute_result"
    }
   ],
   "source": [
    "train_df.select_dtypes(include='category').columns.tolist()"
   ]
  },
  {
   "cell_type": "code",
   "execution_count": 293,
   "id": "0b4d0247",
   "metadata": {
    "execution": {
     "iopub.execute_input": "2021-11-26T10:51:07.050145Z",
     "iopub.status.busy": "2021-11-26T10:51:07.049077Z",
     "iopub.status.idle": "2021-11-26T10:51:07.059426Z",
     "shell.execute_reply": "2021-11-26T10:51:07.058853Z",
     "shell.execute_reply.started": "2021-11-26T10:37:46.322450Z"
    },
    "papermill": {
     "duration": 0.107465,
     "end_time": "2021-11-26T10:51:07.059582",
     "exception": false,
     "start_time": "2021-11-26T10:51:06.952117",
     "status": "completed"
    },
    "tags": []
   },
   "outputs": [
    {
     "data": {
      "text/plain": [
       "27     851\n",
       "1      652\n",
       "23     565\n",
       "6      511\n",
       "9      294\n",
       "      ... \n",
       "174      1\n",
       "205      1\n",
       "207      1\n",
       "117      1\n",
       "209      1\n",
       "Name: DistrictId, Length: 205, dtype: int64"
      ]
     },
     "execution_count": 293,
     "metadata": {},
     "output_type": "execute_result"
    }
   ],
   "source": [
    "train_df['DistrictId'].value_counts()"
   ]
  },
  {
   "cell_type": "code",
   "execution_count": 294,
   "id": "de183e6c",
   "metadata": {
    "execution": {
     "iopub.execute_input": "2021-11-26T10:51:07.257791Z",
     "iopub.status.busy": "2021-11-26T10:51:07.254527Z",
     "iopub.status.idle": "2021-11-26T10:51:07.261506Z",
     "shell.execute_reply": "2021-11-26T10:51:07.260957Z",
     "shell.execute_reply.started": "2021-11-26T10:37:46.342485Z"
    },
    "papermill": {
     "duration": 0.10698,
     "end_time": "2021-11-26T10:51:07.261655",
     "exception": false,
     "start_time": "2021-11-26T10:51:07.154675",
     "status": "completed"
    },
    "tags": []
   },
   "outputs": [
    {
     "data": {
      "text/plain": [
       "B    9903\n",
       "A      97\n",
       "Name: Ecology_2, dtype: int64"
      ]
     },
     "execution_count": 294,
     "metadata": {},
     "output_type": "execute_result"
    }
   ],
   "source": [
    "train_df['Ecology_2'].value_counts()"
   ]
  },
  {
   "cell_type": "code",
   "execution_count": 295,
   "id": "1397bc3c",
   "metadata": {
    "execution": {
     "iopub.execute_input": "2021-11-26T10:51:07.457012Z",
     "iopub.status.busy": "2021-11-26T10:51:07.456376Z",
     "iopub.status.idle": "2021-11-26T10:51:07.462589Z",
     "shell.execute_reply": "2021-11-26T10:51:07.463232Z",
     "shell.execute_reply.started": "2021-11-26T10:37:46.353995Z"
    },
    "papermill": {
     "duration": 0.106487,
     "end_time": "2021-11-26T10:51:07.463422",
     "exception": false,
     "start_time": "2021-11-26T10:51:07.356935",
     "status": "completed"
    },
    "tags": []
   },
   "outputs": [
    {
     "data": {
      "text/plain": [
       "B    9725\n",
       "A     275\n",
       "Name: Ecology_3, dtype: int64"
      ]
     },
     "execution_count": 295,
     "metadata": {},
     "output_type": "execute_result"
    }
   ],
   "source": [
    "train_df['Ecology_3'].value_counts()"
   ]
  },
  {
   "cell_type": "code",
   "execution_count": 296,
   "id": "667cb6c6",
   "metadata": {
    "execution": {
     "iopub.execute_input": "2021-11-26T10:51:07.659904Z",
     "iopub.status.busy": "2021-11-26T10:51:07.659189Z",
     "iopub.status.idle": "2021-11-26T10:51:07.666231Z",
     "shell.execute_reply": "2021-11-26T10:51:07.666737Z",
     "shell.execute_reply.started": "2021-11-26T10:37:46.365027Z"
    },
    "papermill": {
     "duration": 0.106532,
     "end_time": "2021-11-26T10:51:07.666923",
     "exception": false,
     "start_time": "2021-11-26T10:51:07.560391",
     "status": "completed"
    },
    "tags": []
   },
   "outputs": [
    {
     "data": {
      "text/plain": [
       "B    9175\n",
       "A     825\n",
       "Name: Shops_2, dtype: int64"
      ]
     },
     "execution_count": 296,
     "metadata": {},
     "output_type": "execute_result"
    }
   ],
   "source": [
    "train_df['Shops_2'].value_counts()"
   ]
  },
  {
   "cell_type": "markdown",
   "id": "9b0ddaae",
   "metadata": {
    "papermill": {
     "duration": 0.094763,
     "end_time": "2021-11-26T10:51:07.857035",
     "exception": false,
     "start_time": "2021-11-26T10:51:07.762272",
     "status": "completed"
    },
    "tags": []
   },
   "source": [
    "#### **2. Обработка выбросов**"
   ]
  },
  {
   "cell_type": "markdown",
   "id": "c777f25d",
   "metadata": {
    "execution": {
     "iopub.execute_input": "2021-11-24T06:37:55.458371Z",
     "iopub.status.busy": "2021-11-24T06:37:55.457584Z",
     "iopub.status.idle": "2021-11-24T06:37:55.465944Z",
     "shell.execute_reply": "2021-11-24T06:37:55.464916Z",
     "shell.execute_reply.started": "2021-11-24T06:37:55.45831Z"
    },
    "papermill": {
     "duration": 0.094945,
     "end_time": "2021-11-26T10:51:08.047378",
     "exception": false,
     "start_time": "2021-11-26T10:51:07.952433",
     "status": "completed"
    },
    "tags": []
   },
   "source": [
    "**Rooms**"
   ]
  },
  {
   "cell_type": "code",
   "execution_count": 297,
   "id": "2c6974f5",
   "metadata": {
    "execution": {
     "iopub.execute_input": "2021-11-26T10:51:08.242483Z",
     "iopub.status.busy": "2021-11-26T10:51:08.241758Z",
     "iopub.status.idle": "2021-11-26T10:51:08.252107Z",
     "shell.execute_reply": "2021-11-26T10:51:08.252680Z",
     "shell.execute_reply.started": "2021-11-26T10:37:46.376294Z"
    },
    "papermill": {
     "duration": 0.110462,
     "end_time": "2021-11-26T10:51:08.252851",
     "exception": false,
     "start_time": "2021-11-26T10:51:08.142389",
     "status": "completed"
    },
    "tags": []
   },
   "outputs": [
    {
     "data": {
      "text/plain": [
       "2.0     3880\n",
       "1.0     3705\n",
       "3.0     2235\n",
       "4.0      150\n",
       "5.0       18\n",
       "0.0        8\n",
       "10.0       2\n",
       "19.0       1\n",
       "6.0        1\n",
       "Name: Rooms, dtype: int64"
      ]
     },
     "execution_count": 297,
     "metadata": {},
     "output_type": "execute_result"
    }
   ],
   "source": [
    "train_df['Rooms'].value_counts()"
   ]
  },
  {
   "cell_type": "markdown",
   "id": "4fe16b2f",
   "metadata": {
    "papermill": {
     "duration": 0.095595,
     "end_time": "2021-11-26T10:51:08.444178",
     "exception": false,
     "start_time": "2021-11-26T10:51:08.348583",
     "status": "completed"
    },
    "tags": []
   },
   "source": [
    "Создадим вспомогательный признак 'Rooms_outlier' и заполним его 0, a где кол-во комнат == 0 и >= 6 заполним 1."
   ]
  },
  {
   "cell_type": "code",
   "execution_count": 298,
   "id": "582f013d",
   "metadata": {
    "execution": {
     "iopub.execute_input": "2021-11-26T10:51:08.678393Z",
     "iopub.status.busy": "2021-11-26T10:51:08.677601Z",
     "iopub.status.idle": "2021-11-26T10:51:08.707267Z",
     "shell.execute_reply": "2021-11-26T10:51:08.706647Z",
     "shell.execute_reply.started": "2021-11-26T10:37:46.391079Z"
    },
    "papermill": {
     "duration": 0.142822,
     "end_time": "2021-11-26T10:51:08.707409",
     "exception": false,
     "start_time": "2021-11-26T10:51:08.564587",
     "status": "completed"
    },
    "tags": []
   },
   "outputs": [
    {
     "data": {
      "text/html": [
       "<div>\n",
       "<style scoped>\n",
       "    .dataframe tbody tr th:only-of-type {\n",
       "        vertical-align: middle;\n",
       "    }\n",
       "\n",
       "    .dataframe tbody tr th {\n",
       "        vertical-align: top;\n",
       "    }\n",
       "\n",
       "    .dataframe thead th {\n",
       "        text-align: right;\n",
       "    }\n",
       "</style>\n",
       "<table border=\"1\" class=\"dataframe\">\n",
       "  <thead>\n",
       "    <tr style=\"text-align: right;\">\n",
       "      <th></th>\n",
       "      <th>Id</th>\n",
       "      <th>DistrictId</th>\n",
       "      <th>Rooms</th>\n",
       "      <th>Square</th>\n",
       "      <th>LifeSquare</th>\n",
       "      <th>KitchenSquare</th>\n",
       "      <th>Floor</th>\n",
       "      <th>HouseFloor</th>\n",
       "      <th>HouseYear</th>\n",
       "      <th>Ecology_1</th>\n",
       "      <th>...</th>\n",
       "      <th>Ecology_3</th>\n",
       "      <th>Social_1</th>\n",
       "      <th>Social_2</th>\n",
       "      <th>Social_3</th>\n",
       "      <th>Healthcare_1</th>\n",
       "      <th>Helthcare_2</th>\n",
       "      <th>Shops_1</th>\n",
       "      <th>Shops_2</th>\n",
       "      <th>Price</th>\n",
       "      <th>Rooms_outlier</th>\n",
       "    </tr>\n",
       "  </thead>\n",
       "  <tbody>\n",
       "    <tr>\n",
       "      <th>0</th>\n",
       "      <td>11809</td>\n",
       "      <td>27</td>\n",
       "      <td>3.0</td>\n",
       "      <td>115.027313</td>\n",
       "      <td>NaN</td>\n",
       "      <td>10.0</td>\n",
       "      <td>4</td>\n",
       "      <td>10.0</td>\n",
       "      <td>2014</td>\n",
       "      <td>0.075424</td>\n",
       "      <td>...</td>\n",
       "      <td>B</td>\n",
       "      <td>11</td>\n",
       "      <td>3097</td>\n",
       "      <td>0</td>\n",
       "      <td>NaN</td>\n",
       "      <td>0</td>\n",
       "      <td>0</td>\n",
       "      <td>B</td>\n",
       "      <td>305018.875000</td>\n",
       "      <td>0</td>\n",
       "    </tr>\n",
       "    <tr>\n",
       "      <th>1</th>\n",
       "      <td>3013</td>\n",
       "      <td>22</td>\n",
       "      <td>1.0</td>\n",
       "      <td>39.832523</td>\n",
       "      <td>23.169222</td>\n",
       "      <td>8.0</td>\n",
       "      <td>7</td>\n",
       "      <td>8.0</td>\n",
       "      <td>1966</td>\n",
       "      <td>0.118537</td>\n",
       "      <td>...</td>\n",
       "      <td>B</td>\n",
       "      <td>30</td>\n",
       "      <td>6207</td>\n",
       "      <td>1</td>\n",
       "      <td>1183.0</td>\n",
       "      <td>1</td>\n",
       "      <td>0</td>\n",
       "      <td>B</td>\n",
       "      <td>177734.546875</td>\n",
       "      <td>0</td>\n",
       "    </tr>\n",
       "    <tr>\n",
       "      <th>2</th>\n",
       "      <td>8215</td>\n",
       "      <td>1</td>\n",
       "      <td>3.0</td>\n",
       "      <td>78.342216</td>\n",
       "      <td>47.671970</td>\n",
       "      <td>10.0</td>\n",
       "      <td>2</td>\n",
       "      <td>17.0</td>\n",
       "      <td>1988</td>\n",
       "      <td>0.025609</td>\n",
       "      <td>...</td>\n",
       "      <td>B</td>\n",
       "      <td>33</td>\n",
       "      <td>5261</td>\n",
       "      <td>0</td>\n",
       "      <td>240.0</td>\n",
       "      <td>3</td>\n",
       "      <td>1</td>\n",
       "      <td>B</td>\n",
       "      <td>282078.718750</td>\n",
       "      <td>0</td>\n",
       "    </tr>\n",
       "    <tr>\n",
       "      <th>3</th>\n",
       "      <td>2352</td>\n",
       "      <td>1</td>\n",
       "      <td>1.0</td>\n",
       "      <td>40.409908</td>\n",
       "      <td>NaN</td>\n",
       "      <td>1.0</td>\n",
       "      <td>10</td>\n",
       "      <td>22.0</td>\n",
       "      <td>1977</td>\n",
       "      <td>0.007122</td>\n",
       "      <td>...</td>\n",
       "      <td>B</td>\n",
       "      <td>1</td>\n",
       "      <td>264</td>\n",
       "      <td>0</td>\n",
       "      <td>NaN</td>\n",
       "      <td>0</td>\n",
       "      <td>1</td>\n",
       "      <td>B</td>\n",
       "      <td>168106.000000</td>\n",
       "      <td>0</td>\n",
       "    </tr>\n",
       "    <tr>\n",
       "      <th>4</th>\n",
       "      <td>13866</td>\n",
       "      <td>94</td>\n",
       "      <td>2.0</td>\n",
       "      <td>64.285065</td>\n",
       "      <td>38.562515</td>\n",
       "      <td>9.0</td>\n",
       "      <td>16</td>\n",
       "      <td>16.0</td>\n",
       "      <td>1972</td>\n",
       "      <td>0.282798</td>\n",
       "      <td>...</td>\n",
       "      <td>B</td>\n",
       "      <td>33</td>\n",
       "      <td>8667</td>\n",
       "      <td>2</td>\n",
       "      <td>NaN</td>\n",
       "      <td>0</td>\n",
       "      <td>6</td>\n",
       "      <td>B</td>\n",
       "      <td>343995.093750</td>\n",
       "      <td>0</td>\n",
       "    </tr>\n",
       "  </tbody>\n",
       "</table>\n",
       "<p>5 rows × 21 columns</p>\n",
       "</div>"
      ],
      "text/plain": [
       "      Id DistrictId  Rooms      Square  LifeSquare  KitchenSquare  Floor  \\\n",
       "0  11809         27    3.0  115.027313         NaN           10.0      4   \n",
       "1   3013         22    1.0   39.832523   23.169222            8.0      7   \n",
       "2   8215          1    3.0   78.342216   47.671970           10.0      2   \n",
       "3   2352          1    1.0   40.409908         NaN            1.0     10   \n",
       "4  13866         94    2.0   64.285065   38.562515            9.0     16   \n",
       "\n",
       "   HouseFloor  HouseYear  Ecology_1  ... Ecology_3 Social_1  Social_2  \\\n",
       "0        10.0       2014   0.075424  ...         B       11      3097   \n",
       "1         8.0       1966   0.118537  ...         B       30      6207   \n",
       "2        17.0       1988   0.025609  ...         B       33      5261   \n",
       "3        22.0       1977   0.007122  ...         B        1       264   \n",
       "4        16.0       1972   0.282798  ...         B       33      8667   \n",
       "\n",
       "   Social_3  Healthcare_1  Helthcare_2  Shops_1  Shops_2          Price  \\\n",
       "0         0           NaN            0        0        B  305018.875000   \n",
       "1         1        1183.0            1        0        B  177734.546875   \n",
       "2         0         240.0            3        1        B  282078.718750   \n",
       "3         0           NaN            0        1        B  168106.000000   \n",
       "4         2           NaN            0        6        B  343995.093750   \n",
       "\n",
       "   Rooms_outlier  \n",
       "0              0  \n",
       "1              0  \n",
       "2              0  \n",
       "3              0  \n",
       "4              0  \n",
       "\n",
       "[5 rows x 21 columns]"
      ]
     },
     "execution_count": 298,
     "metadata": {},
     "output_type": "execute_result"
    }
   ],
   "source": [
    "train_df['Rooms_outlier'] = 0\n",
    "train_df.loc[(train_df['Rooms'] == 0) | (train_df['Rooms'] >= 6), 'Rooms_outlier'] = 1\n",
    "train_df.head()"
   ]
  },
  {
   "cell_type": "markdown",
   "id": "632d23ae",
   "metadata": {
    "papermill": {
     "duration": 0.095972,
     "end_time": "2021-11-26T10:51:08.899366",
     "exception": false,
     "start_time": "2021-11-26T10:51:08.803394",
     "status": "completed"
    },
    "tags": []
   },
   "source": [
    "Заменяем значение признака 'rooms' на 1, если он был равен 0, и на медианное значение, если он был равен или больше 6."
   ]
  },
  {
   "cell_type": "code",
   "execution_count": 299,
   "id": "ac5f28ad",
   "metadata": {
    "execution": {
     "iopub.execute_input": "2021-11-26T10:51:09.102397Z",
     "iopub.status.busy": "2021-11-26T10:51:09.101530Z",
     "iopub.status.idle": "2021-11-26T10:51:09.104447Z",
     "shell.execute_reply": "2021-11-26T10:51:09.103873Z",
     "shell.execute_reply.started": "2021-11-26T10:37:46.422945Z"
    },
    "papermill": {
     "duration": 0.107926,
     "end_time": "2021-11-26T10:51:09.104595",
     "exception": false,
     "start_time": "2021-11-26T10:51:08.996669",
     "status": "completed"
    },
    "tags": []
   },
   "outputs": [],
   "source": [
    "train_df.loc[train_df['Rooms'] == 0, 'Rooms'] = 1\n",
    "train_df.loc[train_df['Rooms'] >= 6, 'Rooms'] = train_df['Rooms'].median()"
   ]
  },
  {
   "cell_type": "code",
   "execution_count": 300,
   "id": "3f4d7409",
   "metadata": {
    "execution": {
     "iopub.execute_input": "2021-11-26T10:51:09.313592Z",
     "iopub.status.busy": "2021-11-26T10:51:09.312889Z",
     "iopub.status.idle": "2021-11-26T10:51:09.316940Z",
     "shell.execute_reply": "2021-11-26T10:51:09.316339Z",
     "shell.execute_reply.started": "2021-11-26T10:37:46.431241Z"
    },
    "papermill": {
     "duration": 0.111311,
     "end_time": "2021-11-26T10:51:09.317102",
     "exception": false,
     "start_time": "2021-11-26T10:51:09.205791",
     "status": "completed"
    },
    "tags": []
   },
   "outputs": [
    {
     "data": {
      "text/plain": [
       "2.0    3884\n",
       "1.0    3713\n",
       "3.0    2235\n",
       "4.0     150\n",
       "5.0      18\n",
       "Name: Rooms, dtype: int64"
      ]
     },
     "execution_count": 300,
     "metadata": {},
     "output_type": "execute_result"
    }
   ],
   "source": [
    "train_df['Rooms'].value_counts()"
   ]
  },
  {
   "cell_type": "markdown",
   "id": "b9b5c224",
   "metadata": {
    "papermill": {
     "duration": 0.099053,
     "end_time": "2021-11-26T10:51:09.516510",
     "exception": false,
     "start_time": "2021-11-26T10:51:09.417457",
     "status": "completed"
    },
    "tags": []
   },
   "source": [
    "**Square**"
   ]
  },
  {
   "cell_type": "markdown",
   "id": "4b10c65b",
   "metadata": {
    "papermill": {
     "duration": 0.096626,
     "end_time": "2021-11-26T10:51:09.709786",
     "exception": false,
     "start_time": "2021-11-26T10:51:09.613160",
     "status": "completed"
    },
    "tags": []
   },
   "source": [
    "Рассмотрим распределение признака 'Square' на гистограмме"
   ]
  },
  {
   "cell_type": "code",
   "execution_count": 301,
   "id": "b11be358",
   "metadata": {
    "execution": {
     "iopub.execute_input": "2021-11-26T10:51:09.911033Z",
     "iopub.status.busy": "2021-11-26T10:51:09.910381Z",
     "iopub.status.idle": "2021-11-26T10:51:10.141075Z",
     "shell.execute_reply": "2021-11-26T10:51:10.140136Z",
     "shell.execute_reply.started": "2021-11-26T10:37:46.452598Z"
    },
    "papermill": {
     "duration": 0.331915,
     "end_time": "2021-11-26T10:51:10.141276",
     "exception": false,
     "start_time": "2021-11-26T10:51:09.809361",
     "status": "completed"
    },
    "tags": []
   },
   "outputs": [
    {
     "data": {
      "image/png": "[encoded data removed]",
      "text/plain": [
       "<Figure size 288x288 with 1 Axes>"
      ]
     },
     "metadata": {
      "needs_background": "light"
     },
     "output_type": "display_data"
    }
   ],
   "source": [
    "train_df['Square'].hist(figsize=(4,4), bins=20);"
   ]
  },
  {
   "cell_type": "code",
   "execution_count": 302,
   "id": "93fd2678",
   "metadata": {
    "execution": {
     "iopub.execute_input": "2021-11-26T10:51:10.343208Z",
     "iopub.status.busy": "2021-11-26T10:51:10.342505Z",
     "iopub.status.idle": "2021-11-26T10:51:10.591390Z",
     "shell.execute_reply": "2021-11-26T10:51:10.590717Z",
     "shell.execute_reply.started": "2021-11-26T10:37:46.687591Z"
    },
    "papermill": {
     "duration": 0.351098,
     "end_time": "2021-11-26T10:51:10.591538",
     "exception": false,
     "start_time": "2021-11-26T10:51:10.240440",
     "status": "completed"
    },
    "tags": []
   },
   "outputs": [
    {
     "data": {
      "image/png": "[encoded data removed]",
      "text/plain": [
       "<Figure size 288x288 with 1 Axes>"
      ]
     },
     "metadata": {
      "needs_background": "light"
     },
     "output_type": "display_data"
    }
   ],
   "source": [
    "train_df.loc[train_df['Square'] < 200, 'Square'].\\\n",
    "    hist(figsize=(4,4), bins=20);"
   ]
  },
  {
   "cell_type": "code",
   "execution_count": 303,
   "id": "c774fe92",
   "metadata": {
    "execution": {
     "iopub.execute_input": "2021-11-26T10:51:10.793327Z",
     "iopub.status.busy": "2021-11-26T10:51:10.792605Z",
     "iopub.status.idle": "2021-11-26T10:51:11.016543Z",
     "shell.execute_reply": "2021-11-26T10:51:11.015869Z",
     "shell.execute_reply.started": "2021-11-26T10:37:46.940775Z"
    },
    "papermill": {
     "duration": 0.327639,
     "end_time": "2021-11-26T10:51:11.016687",
     "exception": false,
     "start_time": "2021-11-26T10:51:10.689048",
     "status": "completed"
    },
    "tags": []
   },
   "outputs": [
    {
     "data": {
      "image/png": "[encoded data removed]",
      "text/plain": [
       "<Figure size 288x288 with 1 Axes>"
      ]
     },
     "metadata": {
      "needs_background": "light"
     },
     "output_type": "display_data"
    }
   ],
   "source": [
    "train_df.loc[train_df['Square'] < 50, 'Square'].\\\n",
    "    hist(figsize=(4,4), bins=20);"
   ]
  },
  {
   "cell_type": "markdown",
   "id": "a4856e17",
   "metadata": {
    "execution": {
     "iopub.execute_input": "2021-11-24T09:50:54.785928Z",
     "iopub.status.busy": "2021-11-24T09:50:54.785415Z",
     "iopub.status.idle": "2021-11-24T09:50:54.793962Z",
     "shell.execute_reply": "2021-11-24T09:50:54.792886Z",
     "shell.execute_reply.started": "2021-11-24T09:50:54.785878Z"
    },
    "papermill": {
     "duration": 0.097601,
     "end_time": "2021-11-26T10:51:11.212841",
     "exception": false,
     "start_time": "2021-11-26T10:51:11.115240",
     "status": "completed"
    },
    "tags": []
   },
   "source": [
    "Рсапределение признака равномерно в диапазоне от 20 до 150.\n",
    "\n",
    "Заполняем неадекватные значения в признаке 'Square'.\n",
    "\n",
    "Квартиры больше 150 м2 и квартиры меньше 20 м2 считаем выбросами и заполняем их медианами,\n",
    "\n"
   ]
  },
  {
   "cell_type": "code",
   "execution_count": 304,
   "id": "72d60658",
   "metadata": {
    "execution": {
     "iopub.execute_input": "2021-11-26T10:51:11.414499Z",
     "iopub.status.busy": "2021-11-26T10:51:11.413837Z",
     "iopub.status.idle": "2021-11-26T10:51:11.420022Z",
     "shell.execute_reply": "2021-11-26T10:51:11.420571Z",
     "shell.execute_reply.started": "2021-11-26T10:37:47.171289Z"
    },
    "papermill": {
     "duration": 0.110017,
     "end_time": "2021-11-26T10:51:11.420750",
     "exception": false,
     "start_time": "2021-11-26T10:51:11.310733",
     "status": "completed"
    },
    "tags": []
   },
   "outputs": [],
   "source": [
    "condition = (train_df['Square'].isna()) \\\n",
    "             | (train_df['Square'] > 150) \\\n",
    "             | (train_df['Square'] < 20)\n",
    "        \n",
    "train_df.loc[condition, 'Square'] = train_df['Square'].median()"
   ]
  },
  {
   "cell_type": "markdown",
   "id": "478502d4",
   "metadata": {
    "papermill": {
     "duration": 0.098847,
     "end_time": "2021-11-26T10:51:11.618725",
     "exception": false,
     "start_time": "2021-11-26T10:51:11.519878",
     "status": "completed"
    },
    "tags": []
   },
   "source": [
    "**KitchenSquare**"
   ]
  },
  {
   "cell_type": "code",
   "execution_count": 305,
   "id": "ffd3080f",
   "metadata": {
    "execution": {
     "iopub.execute_input": "2021-11-26T10:51:11.819729Z",
     "iopub.status.busy": "2021-11-26T10:51:11.819053Z",
     "iopub.status.idle": "2021-11-26T10:51:11.829451Z",
     "shell.execute_reply": "2021-11-26T10:51:11.830055Z",
     "shell.execute_reply.started": "2021-11-26T10:37:47.180464Z"
    },
    "papermill": {
     "duration": 0.112609,
     "end_time": "2021-11-26T10:51:11.830245",
     "exception": false,
     "start_time": "2021-11-26T10:51:11.717636",
     "status": "completed"
    },
    "tags": []
   },
   "outputs": [
    {
     "data": {
      "text/plain": [
       "1.0       2460\n",
       "8.0       1306\n",
       "5.0       1169\n",
       "10.0      1075\n",
       "6.0       1038\n",
       "9.0        843\n",
       "0.0        697\n",
       "7.0        609\n",
       "12.0       249\n",
       "11.0       233\n",
       "13.0        67\n",
       "14.0        51\n",
       "4.0         39\n",
       "15.0        31\n",
       "3.0         22\n",
       "16.0        16\n",
       "20.0        14\n",
       "17.0        12\n",
       "19.0        11\n",
       "18.0         6\n",
       "2.0          4\n",
       "22.0         3\n",
       "30.0         2\n",
       "43.0         2\n",
       "41.0         2\n",
       "112.0        2\n",
       "25.0         2\n",
       "51.0         2\n",
       "37.0         2\n",
       "58.0         2\n",
       "32.0         2\n",
       "21.0         1\n",
       "73.0         1\n",
       "75.0         1\n",
       "36.0         1\n",
       "27.0         1\n",
       "63.0         1\n",
       "1970.0       1\n",
       "54.0         1\n",
       "53.0         1\n",
       "60.0         1\n",
       "26.0         1\n",
       "66.0         1\n",
       "39.0         1\n",
       "29.0         1\n",
       "78.0         1\n",
       "31.0         1\n",
       "84.0         1\n",
       "48.0         1\n",
       "96.0         1\n",
       "42.0         1\n",
       "40.0         1\n",
       "23.0         1\n",
       "72.0         1\n",
       "35.0         1\n",
       "62.0         1\n",
       "123.0        1\n",
       "2014.0       1\n",
       "Name: KitchenSquare, dtype: int64"
      ]
     },
     "execution_count": 305,
     "metadata": {},
     "output_type": "execute_result"
    }
   ],
   "source": [
    "train_df['KitchenSquare'].value_counts()"
   ]
  },
  {
   "cell_type": "code",
   "execution_count": 306,
   "id": "b64436a3",
   "metadata": {
    "execution": {
     "iopub.execute_input": "2021-11-26T10:51:12.033292Z",
     "iopub.status.busy": "2021-11-26T10:51:12.032373Z",
     "iopub.status.idle": "2021-11-26T10:51:12.040675Z",
     "shell.execute_reply": "2021-11-26T10:51:12.041290Z",
     "shell.execute_reply.started": "2021-11-26T10:37:47.200745Z"
    },
    "papermill": {
     "duration": 0.11111,
     "end_time": "2021-11-26T10:51:12.041465",
     "exception": false,
     "start_time": "2021-11-26T10:51:11.930355",
     "status": "completed"
    },
    "tags": []
   },
   "outputs": [
    {
     "data": {
      "text/plain": [
       "(13.0, 0.0)"
      ]
     },
     "execution_count": 306,
     "metadata": {},
     "output_type": "execute_result"
    }
   ],
   "source": [
    "train_df['KitchenSquare'].quantile(.975), train_df['KitchenSquare'].quantile(.025)"
   ]
  },
  {
   "cell_type": "markdown",
   "id": "ab365417",
   "metadata": {
    "papermill": {
     "duration": 0.099257,
     "end_time": "2021-11-26T10:51:12.240943",
     "exception": false,
     "start_time": "2021-11-26T10:51:12.141686",
     "status": "completed"
    },
    "tags": []
   },
   "source": [
    "Заполняем неадекватные значения в признаке 'KitchenSquare'.\n",
    "\n",
    "Кухни больше 13 м2 (квантиль 97,5%) и кухни меньше 5м2 считаем выбросами и заполняем их медианами."
   ]
  },
  {
   "cell_type": "code",
   "execution_count": 307,
   "id": "c2b88833",
   "metadata": {
    "execution": {
     "iopub.execute_input": "2021-11-26T10:51:12.447209Z",
     "iopub.status.busy": "2021-11-26T10:51:12.446485Z",
     "iopub.status.idle": "2021-11-26T10:51:12.454300Z",
     "shell.execute_reply": "2021-11-26T10:51:12.454869Z",
     "shell.execute_reply.started": "2021-11-26T10:37:47.219401Z"
    },
    "papermill": {
     "duration": 0.112466,
     "end_time": "2021-11-26T10:51:12.455079",
     "exception": false,
     "start_time": "2021-11-26T10:51:12.342613",
     "status": "completed"
    },
    "tags": []
   },
   "outputs": [],
   "source": [
    "condition = (train_df['KitchenSquare'].isna()) \\\n",
    "             | (train_df['KitchenSquare'] > train_df['KitchenSquare'].quantile(.975)) \\\n",
    "             | (train_df['KitchenSquare'] < 5)\n",
    "        \n",
    "train_df.loc[condition, 'KitchenSquare'] = train_df['KitchenSquare'].median()"
   ]
  },
  {
   "cell_type": "code",
   "execution_count": 308,
   "id": "a893d8f7",
   "metadata": {
    "execution": {
     "iopub.execute_input": "2021-11-26T10:51:12.664580Z",
     "iopub.status.busy": "2021-11-26T10:51:12.659591Z",
     "iopub.status.idle": "2021-11-26T10:51:12.667128Z",
     "shell.execute_reply": "2021-11-26T10:51:12.667719Z",
     "shell.execute_reply.started": "2021-11-26T10:37:47.234209Z"
    },
    "papermill": {
     "duration": 0.111533,
     "end_time": "2021-11-26T10:51:12.667900",
     "exception": false,
     "start_time": "2021-11-26T10:51:12.556367",
     "status": "completed"
    },
    "tags": []
   },
   "outputs": [
    {
     "data": {
      "text/plain": [
       "6.0     4449\n",
       "8.0     1306\n",
       "5.0     1169\n",
       "10.0    1075\n",
       "9.0      843\n",
       "7.0      609\n",
       "12.0     249\n",
       "11.0     233\n",
       "13.0      67\n",
       "Name: KitchenSquare, dtype: int64"
      ]
     },
     "execution_count": 308,
     "metadata": {},
     "output_type": "execute_result"
    }
   ],
   "source": [
    "train_df['KitchenSquare'].value_counts()"
   ]
  },
  {
   "cell_type": "markdown",
   "id": "f2fcd609",
   "metadata": {
    "papermill": {
     "duration": 0.098934,
     "end_time": "2021-11-26T10:51:12.866520",
     "exception": false,
     "start_time": "2021-11-26T10:51:12.767586",
     "status": "completed"
    },
    "tags": []
   },
   "source": [
    "**Floor, HouseFloor**"
   ]
  },
  {
   "cell_type": "markdown",
   "id": "3f6dee86",
   "metadata": {
    "execution": {
     "iopub.execute_input": "2021-11-24T10:38:27.453043Z",
     "iopub.status.busy": "2021-11-24T10:38:27.452763Z",
     "iopub.status.idle": "2021-11-24T10:38:27.45966Z",
     "shell.execute_reply": "2021-11-24T10:38:27.458247Z",
     "shell.execute_reply.started": "2021-11-24T10:38:27.453012Z"
    },
    "papermill": {
     "duration": 0.102917,
     "end_time": "2021-11-26T10:51:13.070801",
     "exception": false,
     "start_time": "2021-11-26T10:51:12.967884",
     "status": "completed"
    },
    "tags": []
   },
   "source": [
    "Рассмотрим уникальные значения признаков Floor и HouseFoor"
   ]
  },
  {
   "cell_type": "code",
   "execution_count": 309,
   "id": "cd9662b2",
   "metadata": {
    "execution": {
     "iopub.execute_input": "2021-11-26T10:51:13.274565Z",
     "iopub.status.busy": "2021-11-26T10:51:13.273848Z",
     "iopub.status.idle": "2021-11-26T10:51:13.281433Z",
     "shell.execute_reply": "2021-11-26T10:51:13.281953Z",
     "shell.execute_reply.started": "2021-11-26T10:37:47.248984Z"
    },
    "papermill": {
     "duration": 0.110326,
     "end_time": "2021-11-26T10:51:13.282149",
     "exception": false,
     "start_time": "2021-11-26T10:51:13.171823",
     "status": "completed"
    },
    "tags": []
   },
   "outputs": [
    {
     "data": {
      "text/plain": [
       "array([ 1,  2,  3,  4,  5,  6,  7,  8,  9, 10, 11, 12, 13, 14, 15, 16, 17,\n",
       "       18, 19, 20, 21, 22, 23, 24, 25, 26, 27, 28, 31, 32, 33, 37, 42],\n",
       "      dtype=int8)"
      ]
     },
     "execution_count": 309,
     "metadata": {},
     "output_type": "execute_result"
    }
   ],
   "source": [
    "train_df['Floor'].sort_values().unique()"
   ]
  },
  {
   "cell_type": "code",
   "execution_count": 310,
   "id": "ef25a2bd",
   "metadata": {
    "execution": {
     "iopub.execute_input": "2021-11-26T10:51:13.491200Z",
     "iopub.status.busy": "2021-11-26T10:51:13.490391Z",
     "iopub.status.idle": "2021-11-26T10:51:13.498859Z",
     "shell.execute_reply": "2021-11-26T10:51:13.498185Z",
     "shell.execute_reply.started": "2021-11-26T10:37:47.267754Z"
    },
    "papermill": {
     "duration": 0.114086,
     "end_time": "2021-11-26T10:51:13.499007",
     "exception": false,
     "start_time": "2021-11-26T10:51:13.384921",
     "status": "completed"
    },
    "tags": []
   },
   "outputs": [
    {
     "data": {
      "text/plain": [
       "array([  0.,   1.,   2.,   3.,   4.,   5.,   6.,   7.,   8.,   9.,  10.,\n",
       "        11.,  12.,  13.,  14.,  15.,  16.,  17.,  18.,  19.,  20.,  21.,\n",
       "        22.,  23.,  24.,  25.,  26.,  27.,  28.,  29.,  30.,  31.,  32.,\n",
       "        36.,  37.,  38.,  39.,  40.,  44.,  45.,  47.,  48.,  99., 117.],\n",
       "      dtype=float32)"
      ]
     },
     "execution_count": 310,
     "metadata": {},
     "output_type": "execute_result"
    }
   ],
   "source": [
    "train_df['HouseFloor'].sort_values().unique()"
   ]
  },
  {
   "cell_type": "markdown",
   "id": "2fce9e92",
   "metadata": {
    "papermill": {
     "duration": 0.102735,
     "end_time": "2021-11-26T10:51:13.714400",
     "exception": false,
     "start_time": "2021-11-26T10:51:13.611665",
     "status": "completed"
    },
    "tags": []
   },
   "source": [
    "Есть дома с нулевой этажностью - выброс"
   ]
  },
  {
   "cell_type": "markdown",
   "id": "014773f1",
   "metadata": {
    "papermill": {
     "duration": 0.099642,
     "end_time": "2021-11-26T10:51:13.922413",
     "exception": false,
     "start_time": "2021-11-26T10:51:13.822771",
     "status": "completed"
    },
    "tags": []
   },
   "source": [
    "Сопоставим этаж и количество этажей в доме"
   ]
  },
  {
   "cell_type": "code",
   "execution_count": 311,
   "id": "8ae4f887",
   "metadata": {
    "execution": {
     "iopub.execute_input": "2021-11-26T10:51:14.127922Z",
     "iopub.status.busy": "2021-11-26T10:51:14.127198Z",
     "iopub.status.idle": "2021-11-26T10:51:14.132994Z",
     "shell.execute_reply": "2021-11-26T10:51:14.133478Z",
     "shell.execute_reply.started": "2021-11-26T10:37:47.284941Z"
    },
    "papermill": {
     "duration": 0.109082,
     "end_time": "2021-11-26T10:51:14.133659",
     "exception": false,
     "start_time": "2021-11-26T10:51:14.024577",
     "status": "completed"
    },
    "tags": []
   },
   "outputs": [
    {
     "data": {
      "text/plain": [
       "1825"
      ]
     },
     "execution_count": 311,
     "metadata": {},
     "output_type": "execute_result"
    }
   ],
   "source": [
    "(train_df['Floor'] > train_df['HouseFloor']).sum()"
   ]
  },
  {
   "cell_type": "markdown",
   "id": "39df5e97",
   "metadata": {
    "papermill": {
     "duration": 0.100888,
     "end_time": "2021-11-26T10:51:14.337756",
     "exception": false,
     "start_time": "2021-11-26T10:51:14.236868",
     "status": "completed"
    },
    "tags": []
   },
   "source": [
    "Получаем 1825 квартир, у которых этаж больше, чем этажность - выброс "
   ]
  },
  {
   "cell_type": "markdown",
   "id": "9357fb6b",
   "metadata": {
    "papermill": {
     "duration": 0.100756,
     "end_time": "2021-11-26T10:51:14.539112",
     "exception": false,
     "start_time": "2021-11-26T10:51:14.438356",
     "status": "completed"
    },
    "tags": []
   },
   "source": [
    "Создадим вспомогательный признак 'HouseFloor_outlier' и заполним его 0, a где этажность == 0 и > 90, а также этаж квартиры > этажности 1."
   ]
  },
  {
   "cell_type": "code",
   "execution_count": 312,
   "id": "01945f7b",
   "metadata": {
    "execution": {
     "iopub.execute_input": "2021-11-26T10:51:14.746248Z",
     "iopub.status.busy": "2021-11-26T10:51:14.745548Z",
     "iopub.status.idle": "2021-11-26T10:51:14.753702Z",
     "shell.execute_reply": "2021-11-26T10:51:14.754210Z",
     "shell.execute_reply.started": "2021-11-26T10:37:47.294969Z"
    },
    "papermill": {
     "duration": 0.112378,
     "end_time": "2021-11-26T10:51:14.754402",
     "exception": false,
     "start_time": "2021-11-26T10:51:14.642024",
     "status": "completed"
    },
    "tags": []
   },
   "outputs": [],
   "source": [
    "train_df['HouseFloor_outlier'] = 0\n",
    "train_df.loc[(train_df['HouseFloor'] == 0) | (train_df['HouseFloor'] > 90), 'HouseFloor_outlier'] = 1\n",
    "train_df.loc[train_df['Floor'] > train_df['HouseFloor'], 'HouseFloor_outlier'] = 1"
   ]
  },
  {
   "cell_type": "markdown",
   "id": "05e990ea",
   "metadata": {
    "papermill": {
     "duration": 0.099692,
     "end_time": "2021-11-26T10:51:14.957316",
     "exception": false,
     "start_time": "2021-11-26T10:51:14.857624",
     "status": "completed"
    },
    "tags": []
   },
   "source": [
    "Заполним значения в признаке 'HouseFloor' равные нулю и больше 90 на медиану"
   ]
  },
  {
   "cell_type": "code",
   "execution_count": 313,
   "id": "13dbb41b",
   "metadata": {
    "execution": {
     "iopub.execute_input": "2021-11-26T10:51:15.164340Z",
     "iopub.status.busy": "2021-11-26T10:51:15.163645Z",
     "iopub.status.idle": "2021-11-26T10:51:15.169608Z",
     "shell.execute_reply": "2021-11-26T10:51:15.170126Z",
     "shell.execute_reply.started": "2021-11-26T10:37:47.312498Z"
    },
    "papermill": {
     "duration": 0.111777,
     "end_time": "2021-11-26T10:51:15.170317",
     "exception": false,
     "start_time": "2021-11-26T10:51:15.058540",
     "status": "completed"
    },
    "tags": []
   },
   "outputs": [],
   "source": [
    "train_df.loc[(train_df['HouseFloor'] == 0) | (train_df['HouseFloor'] > 90), 'HouseFloor'] = train_df['HouseFloor'].median()"
   ]
  },
  {
   "cell_type": "markdown",
   "id": "44723506",
   "metadata": {
    "papermill": {
     "duration": 0.101594,
     "end_time": "2021-11-26T10:51:15.374966",
     "exception": false,
     "start_time": "2021-11-26T10:51:15.273372",
     "status": "completed"
    },
    "tags": []
   },
   "source": [
    "Извлечем индексы квартир, у которых этаж больше этажности дома"
   ]
  },
  {
   "cell_type": "code",
   "execution_count": 314,
   "id": "c2072cf3",
   "metadata": {
    "execution": {
     "iopub.execute_input": "2021-11-26T10:51:15.590411Z",
     "iopub.status.busy": "2021-11-26T10:51:15.589667Z",
     "iopub.status.idle": "2021-11-26T10:51:15.600486Z",
     "shell.execute_reply": "2021-11-26T10:51:15.601078Z",
     "shell.execute_reply.started": "2021-11-26T10:37:47.323837Z"
    },
    "papermill": {
     "duration": 0.120924,
     "end_time": "2021-11-26T10:51:15.601273",
     "exception": false,
     "start_time": "2021-11-26T10:51:15.480349",
     "status": "completed"
    },
    "tags": []
   },
   "outputs": [
    {
     "data": {
      "text/plain": [
       "Int64Index([  17,   19,   21,   25,   26,   33,   34,   37,   39,   44,\n",
       "            ...\n",
       "            9913, 9921, 9930, 9931, 9938, 9953, 9960, 9968, 9970, 9975],\n",
       "           dtype='int64', length=1610)"
      ]
     },
     "execution_count": 314,
     "metadata": {},
     "output_type": "execute_result"
    }
   ],
   "source": [
    "floor_outliers = train_df.loc[train_df['Floor'] > train_df['HouseFloor']].index\n",
    "floor_outliers"
   ]
  },
  {
   "cell_type": "markdown",
   "id": "53d827ed",
   "metadata": {
    "papermill": {
     "duration": 0.102743,
     "end_time": "2021-11-26T10:51:15.807480",
     "exception": false,
     "start_time": "2021-11-26T10:51:15.704737",
     "status": "completed"
    },
    "tags": []
   },
   "source": [
    "По индексам заполним значения в признаке 'Floor' на случайные из диапазона значений признака 'HouseFloor'"
   ]
  },
  {
   "cell_type": "code",
   "execution_count": 315,
   "id": "d7b2bd05",
   "metadata": {
    "execution": {
     "iopub.execute_input": "2021-11-26T10:51:16.016688Z",
     "iopub.status.busy": "2021-11-26T10:51:16.015978Z",
     "iopub.status.idle": "2021-11-26T10:51:16.027455Z",
     "shell.execute_reply": "2021-11-26T10:51:16.027998Z",
     "shell.execute_reply.started": "2021-11-26T10:37:47.340369Z"
    },
    "papermill": {
     "duration": 0.118648,
     "end_time": "2021-11-26T10:51:16.028195",
     "exception": false,
     "start_time": "2021-11-26T10:51:15.909547",
     "status": "completed"
    },
    "tags": []
   },
   "outputs": [],
   "source": [
    "train_df.loc[floor_outliers, 'Floor'] = train_df.loc[floor_outliers, 'HouseFloor']\\\n",
    "                                                .apply(lambda x: random.randint(1, x))"
   ]
  },
  {
   "cell_type": "code",
   "execution_count": 316,
   "id": "cc25b450",
   "metadata": {
    "execution": {
     "iopub.execute_input": "2021-11-26T10:51:16.240582Z",
     "iopub.status.busy": "2021-11-26T10:51:16.239856Z",
     "iopub.status.idle": "2021-11-26T10:51:16.242370Z",
     "shell.execute_reply": "2021-11-26T10:51:16.242859Z",
     "shell.execute_reply.started": "2021-11-26T10:37:47.357922Z"
    },
    "papermill": {
     "duration": 0.111459,
     "end_time": "2021-11-26T10:51:16.243030",
     "exception": false,
     "start_time": "2021-11-26T10:51:16.131571",
     "status": "completed"
    },
    "tags": []
   },
   "outputs": [
    {
     "data": {
      "text/plain": [
       "0"
      ]
     },
     "execution_count": 316,
     "metadata": {},
     "output_type": "execute_result"
    }
   ],
   "source": [
    "(train_df['Floor'] > train_df['HouseFloor']).sum()"
   ]
  },
  {
   "cell_type": "markdown",
   "id": "a41165a2",
   "metadata": {
    "papermill": {
     "duration": 0.101945,
     "end_time": "2021-11-26T10:51:16.448832",
     "exception": false,
     "start_time": "2021-11-26T10:51:16.346887",
     "status": "completed"
    },
    "tags": []
   },
   "source": [
    "**HouseYear**"
   ]
  },
  {
   "cell_type": "code",
   "execution_count": 317,
   "id": "756ff934",
   "metadata": {
    "execution": {
     "iopub.execute_input": "2021-11-26T10:51:16.657587Z",
     "iopub.status.busy": "2021-11-26T10:51:16.656864Z",
     "iopub.status.idle": "2021-11-26T10:51:16.665198Z",
     "shell.execute_reply": "2021-11-26T10:51:16.664483Z",
     "shell.execute_reply.started": "2021-11-26T10:37:47.366418Z"
    },
    "papermill": {
     "duration": 0.112785,
     "end_time": "2021-11-26T10:51:16.665346",
     "exception": false,
     "start_time": "2021-11-26T10:51:16.552561",
     "status": "completed"
    },
    "tags": []
   },
   "outputs": [
    {
     "data": {
      "text/plain": [
       "9163    20052011\n",
       "8828        4968\n",
       "7721        2020\n",
       "9122        2020\n",
       "7955        2020\n",
       "          ...   \n",
       "7610        1916\n",
       "6250        1914\n",
       "2066        1912\n",
       "2795        1912\n",
       "6794        1910\n",
       "Name: HouseYear, Length: 10000, dtype: int32"
      ]
     },
     "execution_count": 317,
     "metadata": {},
     "output_type": "execute_result"
    }
   ],
   "source": [
    "train_df['HouseYear'].sort_values(ascending=False)"
   ]
  },
  {
   "cell_type": "markdown",
   "id": "f3bcc4c5",
   "metadata": {
    "papermill": {
     "duration": 0.101723,
     "end_time": "2021-11-26T10:51:16.869676",
     "exception": false,
     "start_time": "2021-11-26T10:51:16.767953",
     "status": "completed"
    },
    "tags": []
   },
   "source": [
    "Видим неадекватные значения превышающие текущую дату - выбросы"
   ]
  },
  {
   "cell_type": "markdown",
   "id": "04e63de6",
   "metadata": {
    "execution": {
     "iopub.execute_input": "2021-11-25T05:11:48.119102Z",
     "iopub.status.busy": "2021-11-25T05:11:48.118712Z",
     "iopub.status.idle": "2021-11-25T05:11:48.129691Z",
     "shell.execute_reply": "2021-11-25T05:11:48.128193Z",
     "shell.execute_reply.started": "2021-11-25T05:11:48.119068Z"
    },
    "papermill": {
     "duration": 0.104145,
     "end_time": "2021-11-26T10:51:17.075872",
     "exception": false,
     "start_time": "2021-11-26T10:51:16.971727",
     "status": "completed"
    },
    "tags": []
   },
   "source": [
    "Рассмотрим какому значению соответствует наибольшее количество квартир и заменим выбросы на это значение."
   ]
  },
  {
   "cell_type": "code",
   "execution_count": 318,
   "id": "2530a303",
   "metadata": {
    "execution": {
     "iopub.execute_input": "2021-11-26T10:51:17.288626Z",
     "iopub.status.busy": "2021-11-26T10:51:17.287969Z",
     "iopub.status.idle": "2021-11-26T10:51:17.295261Z",
     "shell.execute_reply": "2021-11-26T10:51:17.295796Z",
     "shell.execute_reply.started": "2021-11-26T10:37:47.381328Z"
    },
    "papermill": {
     "duration": 0.114524,
     "end_time": "2021-11-26T10:51:17.295987",
     "exception": false,
     "start_time": "2021-11-26T10:51:17.181463",
     "status": "completed"
    },
    "tags": []
   },
   "outputs": [
    {
     "data": {
      "text/plain": [
       "1977    2652\n",
       "Name: HouseYear, dtype: int64"
      ]
     },
     "execution_count": 318,
     "metadata": {},
     "output_type": "execute_result"
    }
   ],
   "source": [
    "train_df['HouseYear'].value_counts().head(1)"
   ]
  },
  {
   "cell_type": "code",
   "execution_count": 319,
   "id": "8f27f8db",
   "metadata": {
    "execution": {
     "iopub.execute_input": "2021-11-26T10:51:17.505811Z",
     "iopub.status.busy": "2021-11-26T10:51:17.505076Z",
     "iopub.status.idle": "2021-11-26T10:51:17.510193Z",
     "shell.execute_reply": "2021-11-26T10:51:17.510764Z",
     "shell.execute_reply.started": "2021-11-26T10:37:47.395413Z"
    },
    "papermill": {
     "duration": 0.111709,
     "end_time": "2021-11-26T10:51:17.510945",
     "exception": false,
     "start_time": "2021-11-26T10:51:17.399236",
     "status": "completed"
    },
    "tags": []
   },
   "outputs": [],
   "source": [
    "train_df.loc[train_df['HouseYear'] > 2021, 'HouseYear'] = 1977"
   ]
  },
  {
   "cell_type": "markdown",
   "id": "acb89bd5",
   "metadata": {
    "papermill": {
     "duration": 0.104673,
     "end_time": "2021-11-26T10:51:17.720436",
     "exception": false,
     "start_time": "2021-11-26T10:51:17.615763",
     "status": "completed"
    },
    "tags": []
   },
   "source": [
    "#### **3. Обработка пропусков**"
   ]
  },
  {
   "cell_type": "code",
   "execution_count": 320,
   "id": "2be6bd77",
   "metadata": {
    "execution": {
     "iopub.execute_input": "2021-11-26T10:51:17.928925Z",
     "iopub.status.busy": "2021-11-26T10:51:17.928292Z",
     "iopub.status.idle": "2021-11-26T10:51:17.936872Z",
     "shell.execute_reply": "2021-11-26T10:51:17.937498Z",
     "shell.execute_reply.started": "2021-11-26T10:37:47.404771Z"
    },
    "papermill": {
     "duration": 0.114956,
     "end_time": "2021-11-26T10:51:17.937667",
     "exception": false,
     "start_time": "2021-11-26T10:51:17.822711",
     "status": "completed"
    },
    "tags": []
   },
   "outputs": [
    {
     "data": {
      "text/plain": [
       "Id                       0\n",
       "DistrictId               0\n",
       "Rooms                    0\n",
       "Square                   0\n",
       "LifeSquare            2113\n",
       "KitchenSquare            0\n",
       "Floor                    0\n",
       "HouseFloor               0\n",
       "HouseYear                0\n",
       "Ecology_1                0\n",
       "Ecology_2                0\n",
       "Ecology_3                0\n",
       "Social_1                 0\n",
       "Social_2                 0\n",
       "Social_3                 0\n",
       "Healthcare_1          4798\n",
       "Helthcare_2              0\n",
       "Shops_1                  0\n",
       "Shops_2                  0\n",
       "Price                    0\n",
       "Rooms_outlier            0\n",
       "HouseFloor_outlier       0\n",
       "dtype: int64"
      ]
     },
     "execution_count": 320,
     "metadata": {},
     "output_type": "execute_result"
    }
   ],
   "source": [
    "train_df.isna().sum()"
   ]
  },
  {
   "cell_type": "markdown",
   "id": "758c8835",
   "metadata": {
    "papermill": {
     "duration": 0.104154,
     "end_time": "2021-11-26T10:51:18.145602",
     "exception": false,
     "start_time": "2021-11-26T10:51:18.041448",
     "status": "completed"
    },
    "tags": []
   },
   "source": [
    "Видим два признака с пропусками 'LifeSquare' и 'Healthcare_1'"
   ]
  },
  {
   "cell_type": "markdown",
   "id": "19ff9fcd",
   "metadata": {
    "papermill": {
     "duration": 0.101591,
     "end_time": "2021-11-26T10:51:18.350534",
     "exception": false,
     "start_time": "2021-11-26T10:51:18.248943",
     "status": "completed"
    },
    "tags": []
   },
   "source": [
    "**LifeSquare**"
   ]
  },
  {
   "cell_type": "markdown",
   "id": "0cb7d174",
   "metadata": {
    "papermill": {
     "duration": 0.103846,
     "end_time": "2021-11-26T10:51:18.556320",
     "exception": false,
     "start_time": "2021-11-26T10:51:18.452474",
     "status": "completed"
    },
    "tags": []
   },
   "source": [
    "Жилая площадь квартиры = общая площадь - площадь кухни - 7 м2 (санузел, кладовая, коридоры)"
   ]
  },
  {
   "cell_type": "markdown",
   "id": "c8b1f0f6",
   "metadata": {
    "papermill": {
     "duration": 0.102454,
     "end_time": "2021-11-26T10:51:18.761605",
     "exception": false,
     "start_time": "2021-11-26T10:51:18.659151",
     "status": "completed"
    },
    "tags": []
   },
   "source": [
    "Создадим новый признак 'LifeSquare_nan' и заполним пропуски 1"
   ]
  },
  {
   "cell_type": "code",
   "execution_count": 321,
   "id": "c8e0b728",
   "metadata": {
    "execution": {
     "iopub.execute_input": "2021-11-26T10:51:18.969643Z",
     "iopub.status.busy": "2021-11-26T10:51:18.968630Z",
     "iopub.status.idle": "2021-11-26T10:51:18.973647Z",
     "shell.execute_reply": "2021-11-26T10:51:18.974108Z",
     "shell.execute_reply.started": "2021-11-26T10:37:47.427631Z"
    },
    "papermill": {
     "duration": 0.110581,
     "end_time": "2021-11-26T10:51:18.974284",
     "exception": false,
     "start_time": "2021-11-26T10:51:18.863703",
     "status": "completed"
    },
    "tags": []
   },
   "outputs": [],
   "source": [
    "train_df['LifeSquare_nan'] = train_df['LifeSquare'].isna() * 1"
   ]
  },
  {
   "cell_type": "markdown",
   "id": "b0a57165",
   "metadata": {
    "papermill": {
     "duration": 0.102008,
     "end_time": "2021-11-26T10:51:19.179315",
     "exception": false,
     "start_time": "2021-11-26T10:51:19.077307",
     "status": "completed"
    },
    "tags": []
   },
   "source": [
    "Заполним пропуски в признаке 'LifeSquare'"
   ]
  },
  {
   "cell_type": "code",
   "execution_count": 322,
   "id": "8015b636",
   "metadata": {
    "execution": {
     "iopub.execute_input": "2021-11-26T10:51:19.390984Z",
     "iopub.status.busy": "2021-11-26T10:51:19.386073Z",
     "iopub.status.idle": "2021-11-26T10:51:19.395872Z",
     "shell.execute_reply": "2021-11-26T10:51:19.395190Z",
     "shell.execute_reply.started": "2021-11-26T10:37:47.439368Z"
    },
    "papermill": {
     "duration": 0.114751,
     "end_time": "2021-11-26T10:51:19.396024",
     "exception": false,
     "start_time": "2021-11-26T10:51:19.281273",
     "status": "completed"
    },
    "tags": []
   },
   "outputs": [],
   "source": [
    "condition = (train_df['LifeSquare'].isna()) \\\n",
    "             & (~train_df['Square'].isna()) \\\n",
    "             & (~train_df['KitchenSquare'].isna())\n",
    "        \n",
    "train_df.loc[condition, 'LifeSquare'] = train_df.loc[condition, 'Square'] \\\n",
    "                                            - train_df.loc[condition, 'KitchenSquare'] - 7"
   ]
  },
  {
   "cell_type": "markdown",
   "id": "cdc90b34",
   "metadata": {
    "execution": {
     "iopub.execute_input": "2021-11-26T07:30:23.404109Z",
     "iopub.status.busy": "2021-11-26T07:30:23.403536Z",
     "iopub.status.idle": "2021-11-26T07:30:23.412256Z",
     "shell.execute_reply": "2021-11-26T07:30:23.411251Z",
     "shell.execute_reply.started": "2021-11-26T07:30:23.404076Z"
    },
    "papermill": {
     "duration": 0.122628,
     "end_time": "2021-11-26T10:51:19.625610",
     "exception": false,
     "start_time": "2021-11-26T10:51:19.502982",
     "status": "completed"
    },
    "tags": []
   },
   "source": [
    "Квартиры c жилой площадью больше 140 м2 и квартиры меньше 7 м2 считаем выбросами и заполняем их медианами"
   ]
  },
  {
   "cell_type": "code",
   "execution_count": 323,
   "id": "7b0f9b2a",
   "metadata": {
    "execution": {
     "iopub.execute_input": "2021-11-26T10:51:19.845798Z",
     "iopub.status.busy": "2021-11-26T10:51:19.844923Z",
     "iopub.status.idle": "2021-11-26T10:51:19.848971Z",
     "shell.execute_reply": "2021-11-26T10:51:19.848423Z",
     "shell.execute_reply.started": "2021-11-26T10:37:47.452963Z"
    },
    "papermill": {
     "duration": 0.114835,
     "end_time": "2021-11-26T10:51:19.849150",
     "exception": false,
     "start_time": "2021-11-26T10:51:19.734315",
     "status": "completed"
    },
    "tags": []
   },
   "outputs": [],
   "source": [
    "condition = (train_df['LifeSquare'].isna()) \\\n",
    "             | (train_df['LifeSquare'] > 140) \\\n",
    "             | (train_df['LifeSquare'] < 7)\n",
    "        \n",
    "train_df.loc[condition, 'LifeSquare'] = train_df['LifeSquare'].median()"
   ]
  },
  {
   "cell_type": "markdown",
   "id": "fab61534",
   "metadata": {
    "papermill": {
     "duration": 0.104432,
     "end_time": "2021-11-26T10:51:20.056278",
     "exception": false,
     "start_time": "2021-11-26T10:51:19.951846",
     "status": "completed"
    },
    "tags": []
   },
   "source": [
    "Посмотрим количество квартир, жилая площадь которых превышает общую."
   ]
  },
  {
   "cell_type": "code",
   "execution_count": 324,
   "id": "dd9cb568",
   "metadata": {
    "execution": {
     "iopub.execute_input": "2021-11-26T10:51:20.270350Z",
     "iopub.status.busy": "2021-11-26T10:51:20.269626Z",
     "iopub.status.idle": "2021-11-26T10:51:20.275657Z",
     "shell.execute_reply": "2021-11-26T10:51:20.276197Z",
     "shell.execute_reply.started": "2021-11-26T10:37:47.467349Z"
    },
    "papermill": {
     "duration": 0.115788,
     "end_time": "2021-11-26T10:51:20.276373",
     "exception": false,
     "start_time": "2021-11-26T10:51:20.160585",
     "status": "completed"
    },
    "tags": []
   },
   "outputs": [
    {
     "data": {
      "text/plain": [
       "475"
      ]
     },
     "execution_count": 324,
     "metadata": {},
     "output_type": "execute_result"
    }
   ],
   "source": [
    "(train_df['LifeSquare'] > train_df['Square']).sum()"
   ]
  },
  {
   "cell_type": "markdown",
   "id": "3cd1e84a",
   "metadata": {
    "papermill": {
     "duration": 0.102477,
     "end_time": "2021-11-26T10:51:20.486448",
     "exception": false,
     "start_time": "2021-11-26T10:51:20.383971",
     "status": "completed"
    },
    "tags": []
   },
   "source": [
    "Видим что у нас есть неадекватные значения - выбросы"
   ]
  },
  {
   "cell_type": "markdown",
   "id": "60476023",
   "metadata": {
    "papermill": {
     "duration": 0.102676,
     "end_time": "2021-11-26T10:51:20.692271",
     "exception": false,
     "start_time": "2021-11-26T10:51:20.589595",
     "status": "completed"
    },
    "tags": []
   },
   "source": [
    "Извлечем индексы квартир, жилая площадь которых превышает общую."
   ]
  },
  {
   "cell_type": "code",
   "execution_count": 325,
   "id": "8e6fe234",
   "metadata": {
    "execution": {
     "iopub.execute_input": "2021-11-26T10:51:20.902667Z",
     "iopub.status.busy": "2021-11-26T10:51:20.899723Z",
     "iopub.status.idle": "2021-11-26T10:51:20.909742Z",
     "shell.execute_reply": "2021-11-26T10:51:20.909207Z",
     "shell.execute_reply.started": "2021-11-26T10:37:47.485262Z"
    },
    "papermill": {
     "duration": 0.115324,
     "end_time": "2021-11-26T10:51:20.909900",
     "exception": false,
     "start_time": "2021-11-26T10:51:20.794576",
     "status": "completed"
    },
    "tags": []
   },
   "outputs": [
    {
     "data": {
      "text/plain": [
       "Int64Index([  33,   64,   77,  100,  111,  142,  165,  179,  213,  262,\n",
       "            ...\n",
       "            9825, 9831, 9841, 9873, 9947, 9960, 9962, 9979, 9987, 9993],\n",
       "           dtype='int64', length=475)"
      ]
     },
     "execution_count": 325,
     "metadata": {},
     "output_type": "execute_result"
    }
   ],
   "source": [
    "square_outliers = train_df.loc[train_df['LifeSquare'] > train_df['Square']].index\n",
    "square_outliers"
   ]
  },
  {
   "cell_type": "markdown",
   "id": "ebb0e6c3",
   "metadata": {
    "papermill": {
     "duration": 0.106624,
     "end_time": "2021-11-26T10:51:21.120416",
     "exception": false,
     "start_time": "2021-11-26T10:51:21.013792",
     "status": "completed"
    },
    "tags": []
   },
   "source": [
    "Используя индексы поменяем местами значения признаков 'LifeSquare' и 'Square'."
   ]
  },
  {
   "cell_type": "code",
   "execution_count": 326,
   "id": "4a852ee2",
   "metadata": {
    "execution": {
     "iopub.execute_input": "2021-11-26T10:51:21.334241Z",
     "iopub.status.busy": "2021-11-26T10:51:21.333458Z",
     "iopub.status.idle": "2021-11-26T10:51:21.340857Z",
     "shell.execute_reply": "2021-11-26T10:51:21.341423Z",
     "shell.execute_reply.started": "2021-11-26T10:37:47.499976Z"
    },
    "papermill": {
     "duration": 0.115393,
     "end_time": "2021-11-26T10:51:21.341611",
     "exception": false,
     "start_time": "2021-11-26T10:51:21.226218",
     "status": "completed"
    },
    "tags": []
   },
   "outputs": [],
   "source": [
    "train_df.loc[square_outliers, 'LifeSquare'],train_df.loc[square_outliers, 'Square'] \\\n",
    "                          = train_df.loc[square_outliers,'Square'],train_df.loc[square_outliers, 'LifeSquare']\n",
    "                                               "
   ]
  },
  {
   "cell_type": "code",
   "execution_count": 327,
   "id": "581d32ba",
   "metadata": {
    "execution": {
     "iopub.execute_input": "2021-11-26T10:51:21.555158Z",
     "iopub.status.busy": "2021-11-26T10:51:21.554352Z",
     "iopub.status.idle": "2021-11-26T10:51:21.557567Z",
     "shell.execute_reply": "2021-11-26T10:51:21.558045Z",
     "shell.execute_reply.started": "2021-11-26T10:37:47.512370Z"
    },
    "papermill": {
     "duration": 0.112702,
     "end_time": "2021-11-26T10:51:21.558232",
     "exception": false,
     "start_time": "2021-11-26T10:51:21.445530",
     "status": "completed"
    },
    "tags": []
   },
   "outputs": [
    {
     "data": {
      "text/plain": [
       "0"
      ]
     },
     "execution_count": 327,
     "metadata": {},
     "output_type": "execute_result"
    }
   ],
   "source": [
    "(train_df['LifeSquare'] > train_df['Square']).sum()"
   ]
  },
  {
   "cell_type": "markdown",
   "id": "a454fb17",
   "metadata": {
    "papermill": {
     "duration": 0.102897,
     "end_time": "2021-11-26T10:51:21.764747",
     "exception": false,
     "start_time": "2021-11-26T10:51:21.661850",
     "status": "completed"
    },
    "tags": []
   },
   "source": [
    "**Healthcare_1**"
   ]
  },
  {
   "cell_type": "markdown",
   "id": "1ba02436",
   "metadata": {
    "execution": {
     "iopub.execute_input": "2021-11-25T06:59:31.88261Z",
     "iopub.status.busy": "2021-11-25T06:59:31.882206Z",
     "iopub.status.idle": "2021-11-25T06:59:31.889794Z",
     "shell.execute_reply": "2021-11-25T06:59:31.888404Z",
     "shell.execute_reply.started": "2021-11-25T06:59:31.882571Z"
    },
    "papermill": {
     "duration": 0.102706,
     "end_time": "2021-11-26T10:51:21.970908",
     "exception": false,
     "start_time": "2021-11-26T10:51:21.868202",
     "status": "completed"
    },
    "tags": []
   },
   "source": [
    "Заполним пропуски значением медианы"
   ]
  },
  {
   "cell_type": "code",
   "execution_count": 328,
   "id": "49472880",
   "metadata": {
    "execution": {
     "iopub.execute_input": "2021-11-26T10:51:22.181900Z",
     "iopub.status.busy": "2021-11-26T10:51:22.181171Z",
     "iopub.status.idle": "2021-11-26T10:51:22.184983Z",
     "shell.execute_reply": "2021-11-26T10:51:22.184445Z",
     "shell.execute_reply.started": "2021-11-26T10:37:47.529499Z"
    },
    "papermill": {
     "duration": 0.111545,
     "end_time": "2021-11-26T10:51:22.185157",
     "exception": false,
     "start_time": "2021-11-26T10:51:22.073612",
     "status": "completed"
    },
    "tags": []
   },
   "outputs": [],
   "source": [
    "train_df['Healthcare_1'] = train_df['Healthcare_1'].median()"
   ]
  },
  {
   "cell_type": "code",
   "execution_count": 329,
   "id": "3a0c6c39",
   "metadata": {
    "execution": {
     "iopub.execute_input": "2021-11-26T10:51:22.404880Z",
     "iopub.status.busy": "2021-11-26T10:51:22.404131Z",
     "iopub.status.idle": "2021-11-26T10:51:22.412150Z",
     "shell.execute_reply": "2021-11-26T10:51:22.412672Z",
     "shell.execute_reply.started": "2021-11-26T10:37:47.537006Z"
    },
    "papermill": {
     "duration": 0.121228,
     "end_time": "2021-11-26T10:51:22.412900",
     "exception": false,
     "start_time": "2021-11-26T10:51:22.291672",
     "status": "completed"
    },
    "tags": []
   },
   "outputs": [
    {
     "data": {
      "text/plain": [
       "Id                    0\n",
       "DistrictId            0\n",
       "Rooms                 0\n",
       "Square                0\n",
       "LifeSquare            0\n",
       "KitchenSquare         0\n",
       "Floor                 0\n",
       "HouseFloor            0\n",
       "HouseYear             0\n",
       "Ecology_1             0\n",
       "Ecology_2             0\n",
       "Ecology_3             0\n",
       "Social_1              0\n",
       "Social_2              0\n",
       "Social_3              0\n",
       "Healthcare_1          0\n",
       "Helthcare_2           0\n",
       "Shops_1               0\n",
       "Shops_2               0\n",
       "Price                 0\n",
       "Rooms_outlier         0\n",
       "HouseFloor_outlier    0\n",
       "LifeSquare_nan        0\n",
       "dtype: int64"
      ]
     },
     "execution_count": 329,
     "metadata": {},
     "output_type": "execute_result"
    }
   ],
   "source": [
    "train_df.isna().sum()"
   ]
  },
  {
   "cell_type": "markdown",
   "id": "30d2847b",
   "metadata": {
    "papermill": {
     "duration": 0.106089,
     "end_time": "2021-11-26T10:51:22.622877",
     "exception": false,
     "start_time": "2021-11-26T10:51:22.516788",
     "status": "completed"
    },
    "tags": []
   },
   "source": [
    "Видим, что пропусков нет"
   ]
  },
  {
   "cell_type": "markdown",
   "id": "e8fe5abc",
   "metadata": {
    "papermill": {
     "duration": 0.104817,
     "end_time": "2021-11-26T10:51:22.833824",
     "exception": false,
     "start_time": "2021-11-26T10:51:22.729007",
     "status": "completed"
    },
    "tags": []
   },
   "source": [
    "#### **4. Оформим обработку выбросов, пропусков  и генерацию новых признаков через class DataPre**"
   ]
  },
  {
   "cell_type": "code",
   "execution_count": 330,
   "id": "35776c3d",
   "metadata": {
    "execution": {
     "iopub.execute_input": "2021-11-26T10:51:23.047942Z",
     "iopub.status.busy": "2021-11-26T10:51:23.047135Z",
     "iopub.status.idle": "2021-11-26T10:51:23.072570Z",
     "shell.execute_reply": "2021-11-26T10:51:23.073248Z",
     "shell.execute_reply.started": "2021-11-26T10:37:47.554995Z"
    },
    "papermill": {
     "duration": 0.13498,
     "end_time": "2021-11-26T10:51:23.073447",
     "exception": false,
     "start_time": "2021-11-26T10:51:22.938467",
     "status": "completed"
    },
    "tags": []
   },
   "outputs": [],
   "source": [
    "class DataPre:\n",
    "    \"\"\"Подготовка исходных данных\"\"\"\n",
    "\n",
    "    def __init__(self):\n",
    "        \"\"\"Параметры класса\"\"\"\n",
    "        self.medians = None\n",
    "        self.kitchen_square_quantile = None\n",
    "        self.healthcare_1_median = None\n",
    "        self.binary_to_numbers = None\n",
    "        self.district_size = None\n",
    "        \n",
    "    def fit(self, X):\n",
    "        \"\"\"Сохранение статистик\"\"\"       \n",
    "        self.medians = X.median()\n",
    "        self.kitchen_square_quantile = X['KitchenSquare'].quantile(.975)\n",
    "        self.healthcare_1_median = X['Healthcare_1'].median()\n",
    "        # Binary features\n",
    "        self.binary_to_numbers = {'A': 0, 'B': 1}\n",
    "        # DistrictID\n",
    "        self.district_size = X['DistrictId'].value_counts().reset_index() \\\n",
    "                               .rename(columns={'index':'DistrictId', 'DistrictId':'DistrictSize'})\n",
    "    \n",
    "    def transform(self, X):\n",
    "        \"\"\"Трансформация данных\"\"\"\n",
    "\n",
    "        # Rooms\n",
    "        X['Rooms_outlier'] = 0\n",
    "        X.loc[(X['Rooms'] == 0) | (X['Rooms'] >= 6), 'Rooms_outlier'] = 1\n",
    "        \n",
    "        X.loc[X['Rooms'] == 0, 'Rooms'] = 1\n",
    "        X.loc[X['Rooms'] >= 6, 'Rooms'] = self.medians['Rooms']\n",
    "        \n",
    "        # Square\n",
    "        condition = (X['Square'].isna()) \\\n",
    "             | (X['Square'] > 150) \\\n",
    "             | (X['Square'] < 20)\n",
    "        \n",
    "        X.loc[condition, 'Square'] = self.medians['Square']\n",
    "        \n",
    "        # KitchenSquare\n",
    "        condition = (X['KitchenSquare'].isna()) \\\n",
    "             | (X['KitchenSquare'] > self.kitchen_square_quantile) \\\n",
    "             | (X['KitchenSquare'] < 5)\n",
    "        \n",
    "        X.loc[condition, 'KitchenSquare'] = self.medians['KitchenSquare']\n",
    "        \n",
    "        # HouseFloor, Floor\n",
    "        X['HouseFloor_outlier'] = 0\n",
    "        X.loc[(X['HouseFloor'] == 0) | (X['HouseFloor'] > 90), 'HouseFloor_outlier'] = 1\n",
    "        X.loc[X['Floor'] > X['HouseFloor'], 'HouseFloor_outlier'] = 1\n",
    "        \n",
    "        X.loc[(X['HouseFloor'] == 0) | (X['HouseFloor'] > 90), 'HouseFloor'] = self.medians['HouseFloor']\n",
    "        \n",
    "        floor_outliers = X.loc[X['Floor'] > X['HouseFloor']].index\n",
    "        X.loc[floor_outliers, 'Floor'] = X.loc[floor_outliers, 'HouseFloor']\\\n",
    "                                            .apply(lambda x: random.randint(1, x))\n",
    "        \n",
    "        # HouseYear\n",
    "        current_year = datetime.now().year\n",
    "        \n",
    "        X['HouseYear_outlier'] = 0\n",
    "        X.loc[X['HouseYear'] > current_year, 'HouseYear_outlier'] = 1\n",
    "        \n",
    "        X.loc[X['HouseYear'] > current_year, 'HouseYear'] = 1977\n",
    "        \n",
    "        # Healthcare_1\n",
    "        X['Healthcare_1'] = X['Healthcare_1'].fillna(self.healthcare_1_median)\n",
    "            \n",
    "        # LifeSquare\n",
    "        X['LifeSquare_nan'] = X['LifeSquare'].isna() * 1\n",
    "        condition = (X['LifeSquare'].isna()) & \\\n",
    "                      (~X['Square'].isna()) & \\\n",
    "                      (~X['KitchenSquare'].isna())\n",
    "        \n",
    "        X.loc[condition, 'LifeSquare'] = X.loc[condition, 'Square'] - X.loc[condition, 'KitchenSquare'] - 7\n",
    "        \n",
    "        condition = (X['LifeSquare'].isna()) \\\n",
    "             | (X['LifeSquare'] > 140) \\\n",
    "             | (X['LifeSquare'] < 7)\n",
    "        \n",
    "        X.loc[condition, 'LifeSquare'] = self.medians['LifeSquare']\n",
    "        \n",
    "        square_outliers = X.loc[X['LifeSquare'] > X['Square']].index\n",
    "        \n",
    "        X.loc[square_outliers, 'LifeSquare'],X.loc[square_outliers, 'Square'] \\\n",
    "                          = X.loc[square_outliers,'Square'],X.loc[square_outliers, 'LifeSquare']\n",
    "        \n",
    "        \"\"\"Генерация новых фич\"\"\"\n",
    "        \n",
    "        # Binary features\n",
    "        X['Ecology_2'] = X['Ecology_2'].map(self.binary_to_numbers)  # self.binary_to_numbers = {'A': 0, 'B': 1}\n",
    "        X['Ecology_3'] = X['Ecology_3'].map(self.binary_to_numbers)\n",
    "        X['Shops_2'] = X['Shops_2'].map(self.binary_to_numbers)\n",
    "        \n",
    "        # DistrictId, IsDistrictLarge\n",
    "        X = X.merge(self.district_size, on='DistrictId', how='left')\n",
    "        \n",
    "        X['new_district'] = 0\n",
    "        X.loc[X['DistrictSize'].isna(), 'new_district'] = 1\n",
    "        \n",
    "        X['DistrictSize'].fillna(5, inplace=True)\n",
    "        \n",
    "        X['IsDistrictLarge'] = (X['DistrictSize'] > 100).astype(int)\n",
    "        \n",
    "        X.fillna(self.medians, inplace=True)\n",
    "                                                \n",
    "        return X"
   ]
  },
  {
   "cell_type": "code",
   "execution_count": 331,
   "id": "de18b5e1",
   "metadata": {
    "execution": {
     "iopub.execute_input": "2021-11-26T10:51:23.292781Z",
     "iopub.status.busy": "2021-11-26T10:51:23.292156Z",
     "iopub.status.idle": "2021-11-26T10:51:23.351020Z",
     "shell.execute_reply": "2021-11-26T10:51:23.350296Z",
     "shell.execute_reply.started": "2021-11-26T10:37:47.586145Z"
    },
    "papermill": {
     "duration": 0.168799,
     "end_time": "2021-11-26T10:51:23.351203",
     "exception": false,
     "start_time": "2021-11-26T10:51:23.182404",
     "status": "completed"
    },
    "tags": []
   },
   "outputs": [],
   "source": [
    "train_df = pd.read_csv('train.csv')\n",
    "test_df = pd.read_csv('test.csv')"
   ]
  },
  {
   "cell_type": "markdown",
   "id": "905215cb",
   "metadata": {
    "papermill": {
     "duration": 0.106481,
     "end_time": "2021-11-26T10:51:23.566130",
     "exception": false,
     "start_time": "2021-11-26T10:51:23.459649",
     "status": "completed"
    },
    "tags": []
   },
   "source": [
    "**Инициализация класса DataPre**"
   ]
  },
  {
   "cell_type": "code",
   "execution_count": 332,
   "id": "f5f972a4",
   "metadata": {
    "execution": {
     "iopub.execute_input": "2021-11-26T10:51:23.781812Z",
     "iopub.status.busy": "2021-11-26T10:51:23.781074Z",
     "iopub.status.idle": "2021-11-26T10:51:23.844181Z",
     "shell.execute_reply": "2021-11-26T10:51:23.843353Z",
     "shell.execute_reply.started": "2021-11-26T10:37:47.660947Z"
    },
    "papermill": {
     "duration": 0.172185,
     "end_time": "2021-11-26T10:51:23.844344",
     "exception": false,
     "start_time": "2021-11-26T10:51:23.672159",
     "status": "completed"
    },
    "tags": []
   },
   "outputs": [],
   "source": [
    "data_inst = DataPre()\n",
    "data_inst.fit(train_df)\n",
    "train_df = data_inst.transform(train_df)"
   ]
  },
  {
   "cell_type": "markdown",
   "id": "8fbb469c",
   "metadata": {
    "papermill": {
     "duration": 0.106659,
     "end_time": "2021-11-26T10:51:24.058966",
     "exception": false,
     "start_time": "2021-11-26T10:51:23.952307",
     "status": "completed"
    },
    "tags": []
   },
   "source": [
    "#### **5. Отбор признаков** "
   ]
  },
  {
   "cell_type": "code",
   "execution_count": 333,
   "id": "05c6ae62",
   "metadata": {
    "execution": {
     "iopub.execute_input": "2021-11-26T10:51:24.281968Z",
     "iopub.status.busy": "2021-11-26T10:51:24.281302Z",
     "iopub.status.idle": "2021-11-26T10:51:24.286778Z",
     "shell.execute_reply": "2021-11-26T10:51:24.287374Z",
     "shell.execute_reply.started": "2021-11-26T10:37:47.723342Z"
    },
    "papermill": {
     "duration": 0.118278,
     "end_time": "2021-11-26T10:51:24.287633",
     "exception": false,
     "start_time": "2021-11-26T10:51:24.169355",
     "status": "completed"
    },
    "tags": []
   },
   "outputs": [
    {
     "data": {
      "text/plain": [
       "['Id',\n",
       " 'DistrictId',\n",
       " 'Rooms',\n",
       " 'Square',\n",
       " 'LifeSquare',\n",
       " 'KitchenSquare',\n",
       " 'Floor',\n",
       " 'HouseFloor',\n",
       " 'HouseYear',\n",
       " 'Ecology_1',\n",
       " 'Ecology_2',\n",
       " 'Ecology_3',\n",
       " 'Social_1',\n",
       " 'Social_2',\n",
       " 'Social_3',\n",
       " 'Healthcare_1',\n",
       " 'Helthcare_2',\n",
       " 'Shops_1',\n",
       " 'Shops_2',\n",
       " 'Price',\n",
       " 'Rooms_outlier',\n",
       " 'HouseFloor_outlier',\n",
       " 'HouseYear_outlier',\n",
       " 'LifeSquare_nan',\n",
       " 'DistrictSize',\n",
       " 'new_district',\n",
       " 'IsDistrictLarge']"
      ]
     },
     "execution_count": 333,
     "metadata": {},
     "output_type": "execute_result"
    }
   ],
   "source": [
    "train_df.columns.tolist()"
   ]
  },
  {
   "cell_type": "code",
   "execution_count": 334,
   "id": "14aad135",
   "metadata": {
    "execution": {
     "iopub.execute_input": "2021-11-26T10:51:24.518495Z",
     "iopub.status.busy": "2021-11-26T10:51:24.517707Z",
     "iopub.status.idle": "2021-11-26T10:51:24.522715Z",
     "shell.execute_reply": "2021-11-26T10:51:24.523499Z",
     "shell.execute_reply.started": "2021-11-26T10:37:47.731394Z"
    },
    "papermill": {
     "duration": 0.121146,
     "end_time": "2021-11-26T10:51:24.523742",
     "exception": false,
     "start_time": "2021-11-26T10:51:24.402596",
     "status": "completed"
    },
    "tags": []
   },
   "outputs": [],
   "source": [
    "feature_names = ['Rooms', 'Square', 'LifeSquare', 'KitchenSquare', 'Floor', 'HouseFloor', 'HouseYear',\n",
    "                 'Ecology_1', 'Ecology_2', 'Ecology_3', 'Social_1', 'Social_2', 'Social_3',\n",
    "                 'Helthcare_2', 'Shops_1', 'Shops_2']\n",
    "\n",
    "new_feature_names = ['Rooms_outlier', 'HouseFloor_outlier', 'HouseYear_outlier', 'LifeSquare_nan', 'DistrictSize',\n",
    "                     'new_district', 'IsDistrictLarge']\n",
    "\n",
    "target_name = 'Price'"
   ]
  },
  {
   "cell_type": "markdown",
   "id": "ea6cbb7e",
   "metadata": {
    "papermill": {
     "duration": 0.116625,
     "end_time": "2021-11-26T10:51:24.753283",
     "exception": false,
     "start_time": "2021-11-26T10:51:24.636658",
     "status": "completed"
    },
    "tags": []
   },
   "source": [
    "#### **6. Разбиение на train и test**"
   ]
  },
  {
   "cell_type": "code",
   "execution_count": 335,
   "id": "8ac18756",
   "metadata": {
    "execution": {
     "iopub.execute_input": "2021-11-26T10:51:24.973884Z",
     "iopub.status.busy": "2021-11-26T10:51:24.973215Z",
     "iopub.status.idle": "2021-11-26T10:51:25.031570Z",
     "shell.execute_reply": "2021-11-26T10:51:25.032110Z",
     "shell.execute_reply.started": "2021-11-26T10:37:47.744276Z"
    },
    "papermill": {
     "duration": 0.171004,
     "end_time": "2021-11-26T10:51:25.032317",
     "exception": false,
     "start_time": "2021-11-26T10:51:24.861313",
     "status": "completed"
    },
    "tags": []
   },
   "outputs": [],
   "source": [
    "train_df = pd.read_csv('train.csv')\n",
    "test_df = pd.read_csv('test.csv')"
   ]
  },
  {
   "cell_type": "code",
   "execution_count": 336,
   "id": "4dd765f6",
   "metadata": {
    "execution": {
     "iopub.execute_input": "2021-11-26T10:51:25.255577Z",
     "iopub.status.busy": "2021-11-26T10:51:25.254900Z",
     "iopub.status.idle": "2021-11-26T10:51:25.261215Z",
     "shell.execute_reply": "2021-11-26T10:51:25.261781Z",
     "shell.execute_reply.started": "2021-11-26T10:37:47.814672Z"
    },
    "papermill": {
     "duration": 0.120917,
     "end_time": "2021-11-26T10:51:25.261965",
     "exception": false,
     "start_time": "2021-11-26T10:51:25.141048",
     "status": "completed"
    },
    "tags": []
   },
   "outputs": [],
   "source": [
    "X = train_df.drop(columns=target_name)\n",
    "y = train_df[target_name]"
   ]
  },
  {
   "cell_type": "code",
   "execution_count": 337,
   "id": "3017440d",
   "metadata": {
    "execution": {
     "iopub.execute_input": "2021-11-26T10:51:25.482653Z",
     "iopub.status.busy": "2021-11-26T10:51:25.481902Z",
     "iopub.status.idle": "2021-11-26T10:51:25.495298Z",
     "shell.execute_reply": "2021-11-26T10:51:25.494430Z",
     "shell.execute_reply.started": "2021-11-26T10:37:47.822435Z"
    },
    "papermill": {
     "duration": 0.125717,
     "end_time": "2021-11-26T10:51:25.495533",
     "exception": false,
     "start_time": "2021-11-26T10:51:25.369816",
     "status": "completed"
    },
    "tags": []
   },
   "outputs": [],
   "source": [
    "X_train, X_valid, y_train, y_valid = train_test_split(X, y, test_size=0.33, shuffle=True, random_state=21)"
   ]
  },
  {
   "cell_type": "code",
   "execution_count": 338,
   "id": "1e530131",
   "metadata": {
    "execution": {
     "iopub.execute_input": "2021-11-26T10:51:25.715806Z",
     "iopub.status.busy": "2021-11-26T10:51:25.715041Z",
     "iopub.status.idle": "2021-11-26T10:51:25.833740Z",
     "shell.execute_reply": "2021-11-26T10:51:25.834425Z",
     "shell.execute_reply.started": "2021-11-26T10:37:47.841568Z"
    },
    "papermill": {
     "duration": 0.229527,
     "end_time": "2021-11-26T10:51:25.834606",
     "exception": false,
     "start_time": "2021-11-26T10:51:25.605079",
     "status": "completed"
    },
    "tags": []
   },
   "outputs": [
    {
     "data": {
      "text/plain": [
       "((6700, 26), (3300, 26), (5000, 26))"
      ]
     },
     "execution_count": 338,
     "metadata": {},
     "output_type": "execute_result"
    }
   ],
   "source": [
    "prep = DataPre()\n",
    "prep.fit(X_train)\n",
    "\n",
    "X_train = prep.transform(X_train)\n",
    "X_valid = prep.transform(X_valid)\n",
    "test_df = prep.transform(test_df)\n",
    "\n",
    "X_train.shape, X_valid.shape, test_df.shape"
   ]
  },
  {
   "cell_type": "code",
   "execution_count": 339,
   "id": "eea85c23",
   "metadata": {
    "execution": {
     "iopub.execute_input": "2021-11-26T10:51:26.051851Z",
     "iopub.status.busy": "2021-11-26T10:51:26.051063Z",
     "iopub.status.idle": "2021-11-26T10:51:26.058908Z",
     "shell.execute_reply": "2021-11-26T10:51:26.059483Z",
     "shell.execute_reply.started": "2021-11-26T10:37:47.971293Z"
    },
    "papermill": {
     "duration": 0.117174,
     "end_time": "2021-11-26T10:51:26.059661",
     "exception": false,
     "start_time": "2021-11-26T10:51:25.942487",
     "status": "completed"
    },
    "tags": []
   },
   "outputs": [],
   "source": [
    "X_train = X_train[feature_names + new_feature_names]\n",
    "X_valid = X_valid[feature_names + new_feature_names]\n",
    "test_df = test_df[feature_names + new_feature_names]"
   ]
  },
  {
   "cell_type": "code",
   "execution_count": 340,
   "id": "15345baa",
   "metadata": {
    "execution": {
     "iopub.execute_input": "2021-11-26T10:51:26.275536Z",
     "iopub.status.busy": "2021-11-26T10:51:26.274800Z",
     "iopub.status.idle": "2021-11-26T10:51:26.285796Z",
     "shell.execute_reply": "2021-11-26T10:51:26.286372Z",
     "shell.execute_reply.started": "2021-11-26T10:37:47.981190Z"
    },
    "papermill": {
     "duration": 0.120707,
     "end_time": "2021-11-26T10:51:26.286550",
     "exception": false,
     "start_time": "2021-11-26T10:51:26.165843",
     "status": "completed"
    },
    "tags": []
   },
   "outputs": [
    {
     "data": {
      "text/plain": [
       "(0, 0, 0)"
      ]
     },
     "execution_count": 340,
     "metadata": {},
     "output_type": "execute_result"
    }
   ],
   "source": [
    "X_train.isna().sum().sum(), X_valid.isna().sum().sum(), test_df.isna().sum().sum()"
   ]
  },
  {
   "cell_type": "markdown",
   "id": "fb9fb4dd",
   "metadata": {
    "papermill": {
     "duration": 0.10469,
     "end_time": "2021-11-26T10:51:26.497580",
     "exception": false,
     "start_time": "2021-11-26T10:51:26.392890",
     "status": "completed"
    },
    "tags": []
   },
   "source": [
    "#### **7. Построение модели**"
   ]
  },
  {
   "cell_type": "markdown",
   "id": "25bcf442",
   "metadata": {
    "execution": {
     "iopub.execute_input": "2021-11-26T10:17:17.589082Z",
     "iopub.status.busy": "2021-11-26T10:17:17.587969Z",
     "iopub.status.idle": "2021-11-26T10:17:17.594193Z",
     "shell.execute_reply": "2021-11-26T10:17:17.593120Z",
     "shell.execute_reply.started": "2021-11-26T10:17:17.589004Z"
    },
    "papermill": {
     "duration": 0.105659,
     "end_time": "2021-11-26T10:51:26.707865",
     "exception": false,
     "start_time": "2021-11-26T10:51:26.602206",
     "status": "completed"
    },
    "tags": []
   },
   "source": [
    "**Обучение**"
   ]
  },
  {
   "cell_type": "code",
   "execution_count": 341,
   "id": "bc8199e7",
   "metadata": {
    "execution": {
     "iopub.execute_input": "2021-11-26T10:51:26.921729Z",
     "iopub.status.busy": "2021-11-26T10:51:26.920660Z",
     "iopub.status.idle": "2021-11-26T10:51:31.420546Z",
     "shell.execute_reply": "2021-11-26T10:51:31.419835Z",
     "shell.execute_reply.started": "2021-11-26T10:37:48.001097Z"
    },
    "papermill": {
     "duration": 4.608141,
     "end_time": "2021-11-26T10:51:31.420691",
     "exception": false,
     "start_time": "2021-11-26T10:51:26.812550",
     "status": "completed"
    },
    "tags": []
   },
   "outputs": [
    {
     "data": {
      "text/plain": [
       "GradientBoostingRegressor(criterion='mse', max_depth=5, min_samples_leaf=9,\n",
       "                          n_estimators=200, random_state=42)"
      ]
     },
     "execution_count": 341,
     "metadata": {},
     "output_type": "execute_result"
    }
   ],
   "source": [
    "model = GradientBoostingRegressor(criterion='mse', \n",
    "                                     max_depth=5,\n",
    "                                     min_samples_leaf=9,\n",
    "                                     random_state=42,  \n",
    "                                     n_estimators=200)\n",
    "model.fit(X_train, y_train)"
   ]
  },
  {
   "cell_type": "code",
   "execution_count": 342,
   "id": "d3aec207",
   "metadata": {
    "execution": {
     "iopub.execute_input": "2021-11-26T10:51:31.643805Z",
     "iopub.status.busy": "2021-11-26T10:51:31.643080Z",
     "iopub.status.idle": "2021-11-26T10:51:32.166559Z",
     "shell.execute_reply": "2021-11-26T10:51:32.167130Z",
     "shell.execute_reply.started": "2021-11-26T10:37:52.509766Z"
    },
    "papermill": {
     "duration": 0.637768,
     "end_time": "2021-11-26T10:51:32.167309",
     "exception": false,
     "start_time": "2021-11-26T10:51:31.529541",
     "status": "completed"
    },
    "tags": []
   },
   "outputs": [
    {
     "name": "stdout",
     "output_type": "stream",
     "text": [
      "Train R2:\t0.883\n",
      "Test R2:\t0.754\n"
     ]
    },
    {
     "data": {
      "image/png": "[encoded data removed]",
      "text/plain": [
       "<Figure size 1296x720 with 2 Axes>"
      ]
     },
     "metadata": {
      "needs_background": "light"
     },
     "output_type": "display_data"
    }
   ],
   "source": [
    "y_train_preds = model.predict(X_train)\n",
    "y_test_preds = model.predict(X_valid)\n",
    "evaluate_preds(y_train, y_train_preds, y_valid, y_test_preds)"
   ]
  },
  {
   "cell_type": "markdown",
   "id": "984a0c26",
   "metadata": {
    "papermill": {
     "duration": 0.111852,
     "end_time": "2021-11-26T10:51:32.391721",
     "exception": false,
     "start_time": "2021-11-26T10:51:32.279869",
     "status": "completed"
    },
    "tags": []
   },
   "source": [
    "**Важность признаков**"
   ]
  },
  {
   "cell_type": "code",
   "execution_count": 343,
   "id": "ffd04159",
   "metadata": {
    "execution": {
     "iopub.execute_input": "2021-11-26T10:51:32.617725Z",
     "iopub.status.busy": "2021-11-26T10:51:32.616933Z",
     "iopub.status.idle": "2021-11-26T10:51:32.633186Z",
     "shell.execute_reply": "2021-11-26T10:51:32.632545Z",
     "shell.execute_reply.started": "2021-11-26T10:37:53.039623Z"
    },
    "papermill": {
     "duration": 0.131343,
     "end_time": "2021-11-26T10:51:32.633327",
     "exception": false,
     "start_time": "2021-11-26T10:51:32.501984",
     "status": "completed"
    },
    "tags": []
   },
   "outputs": [
    {
     "data": {
      "text/html": [
       "<div>\n",
       "<style scoped>\n",
       "    .dataframe tbody tr th:only-of-type {\n",
       "        vertical-align: middle;\n",
       "    }\n",
       "\n",
       "    .dataframe tbody tr th {\n",
       "        vertical-align: top;\n",
       "    }\n",
       "\n",
       "    .dataframe thead th {\n",
       "        text-align: right;\n",
       "    }\n",
       "</style>\n",
       "<table border=\"1\" class=\"dataframe\">\n",
       "  <thead>\n",
       "    <tr style=\"text-align: right;\">\n",
       "      <th></th>\n",
       "      <th>feature_name</th>\n",
       "      <th>importance</th>\n",
       "    </tr>\n",
       "  </thead>\n",
       "  <tbody>\n",
       "    <tr>\n",
       "      <th>1</th>\n",
       "      <td>Square</td>\n",
       "      <td>0.443816</td>\n",
       "    </tr>\n",
       "    <tr>\n",
       "      <th>20</th>\n",
       "      <td>DistrictSize</td>\n",
       "      <td>0.237058</td>\n",
       "    </tr>\n",
       "    <tr>\n",
       "      <th>12</th>\n",
       "      <td>Social_3</td>\n",
       "      <td>0.057492</td>\n",
       "    </tr>\n",
       "    <tr>\n",
       "      <th>11</th>\n",
       "      <td>Social_2</td>\n",
       "      <td>0.042280</td>\n",
       "    </tr>\n",
       "    <tr>\n",
       "      <th>7</th>\n",
       "      <td>Ecology_1</td>\n",
       "      <td>0.037882</td>\n",
       "    </tr>\n",
       "    <tr>\n",
       "      <th>0</th>\n",
       "      <td>Rooms</td>\n",
       "      <td>0.034613</td>\n",
       "    </tr>\n",
       "    <tr>\n",
       "      <th>6</th>\n",
       "      <td>HouseYear</td>\n",
       "      <td>0.029025</td>\n",
       "    </tr>\n",
       "    <tr>\n",
       "      <th>2</th>\n",
       "      <td>LifeSquare</td>\n",
       "      <td>0.026132</td>\n",
       "    </tr>\n",
       "    <tr>\n",
       "      <th>10</th>\n",
       "      <td>Social_1</td>\n",
       "      <td>0.023721</td>\n",
       "    </tr>\n",
       "    <tr>\n",
       "      <th>5</th>\n",
       "      <td>HouseFloor</td>\n",
       "      <td>0.020972</td>\n",
       "    </tr>\n",
       "    <tr>\n",
       "      <th>4</th>\n",
       "      <td>Floor</td>\n",
       "      <td>0.013735</td>\n",
       "    </tr>\n",
       "    <tr>\n",
       "      <th>3</th>\n",
       "      <td>KitchenSquare</td>\n",
       "      <td>0.013595</td>\n",
       "    </tr>\n",
       "    <tr>\n",
       "      <th>14</th>\n",
       "      <td>Shops_1</td>\n",
       "      <td>0.010083</td>\n",
       "    </tr>\n",
       "    <tr>\n",
       "      <th>13</th>\n",
       "      <td>Helthcare_2</td>\n",
       "      <td>0.005275</td>\n",
       "    </tr>\n",
       "    <tr>\n",
       "      <th>17</th>\n",
       "      <td>HouseFloor_outlier</td>\n",
       "      <td>0.001553</td>\n",
       "    </tr>\n",
       "    <tr>\n",
       "      <th>9</th>\n",
       "      <td>Ecology_3</td>\n",
       "      <td>0.000974</td>\n",
       "    </tr>\n",
       "    <tr>\n",
       "      <th>15</th>\n",
       "      <td>Shops_2</td>\n",
       "      <td>0.000965</td>\n",
       "    </tr>\n",
       "    <tr>\n",
       "      <th>19</th>\n",
       "      <td>LifeSquare_nan</td>\n",
       "      <td>0.000537</td>\n",
       "    </tr>\n",
       "    <tr>\n",
       "      <th>8</th>\n",
       "      <td>Ecology_2</td>\n",
       "      <td>0.000247</td>\n",
       "    </tr>\n",
       "    <tr>\n",
       "      <th>22</th>\n",
       "      <td>IsDistrictLarge</td>\n",
       "      <td>0.000045</td>\n",
       "    </tr>\n",
       "    <tr>\n",
       "      <th>16</th>\n",
       "      <td>Rooms_outlier</td>\n",
       "      <td>0.000000</td>\n",
       "    </tr>\n",
       "    <tr>\n",
       "      <th>18</th>\n",
       "      <td>HouseYear_outlier</td>\n",
       "      <td>0.000000</td>\n",
       "    </tr>\n",
       "    <tr>\n",
       "      <th>21</th>\n",
       "      <td>new_district</td>\n",
       "      <td>0.000000</td>\n",
       "    </tr>\n",
       "  </tbody>\n",
       "</table>\n",
       "</div>"
      ],
      "text/plain": [
       "          feature_name  importance\n",
       "1               Square    0.443816\n",
       "20        DistrictSize    0.237058\n",
       "12            Social_3    0.057492\n",
       "11            Social_2    0.042280\n",
       "7            Ecology_1    0.037882\n",
       "0                Rooms    0.034613\n",
       "6            HouseYear    0.029025\n",
       "2           LifeSquare    0.026132\n",
       "10            Social_1    0.023721\n",
       "5           HouseFloor    0.020972\n",
       "4                Floor    0.013735\n",
       "3        KitchenSquare    0.013595\n",
       "14             Shops_1    0.010083\n",
       "13         Helthcare_2    0.005275\n",
       "17  HouseFloor_outlier    0.001553\n",
       "9            Ecology_3    0.000974\n",
       "15             Shops_2    0.000965\n",
       "19      LifeSquare_nan    0.000537\n",
       "8            Ecology_2    0.000247\n",
       "22     IsDistrictLarge    0.000045\n",
       "16       Rooms_outlier    0.000000\n",
       "18   HouseYear_outlier    0.000000\n",
       "21        new_district    0.000000"
      ]
     },
     "execution_count": 343,
     "metadata": {},
     "output_type": "execute_result"
    }
   ],
   "source": [
    "feature_importances = pd.DataFrame(zip(X_train.columns, model.feature_importances_), \n",
    "                                   columns=['feature_name', 'importance'])\n",
    "\n",
    "feature_importances.sort_values(by='importance', ascending=False)"
   ]
  },
  {
   "cell_type": "markdown",
   "id": "315a4e71",
   "metadata": {
    "papermill": {
     "duration": 0.111669,
     "end_time": "2021-11-26T10:51:32.857951",
     "exception": false,
     "start_time": "2021-11-26T10:51:32.746282",
     "status": "completed"
    },
    "tags": []
   },
   "source": [
    "#### **8. Прогнозирование на тестовом датасете**"
   ]
  },
  {
   "cell_type": "code",
   "execution_count": 344,
   "id": "b4c4abf3",
   "metadata": {
    "execution": {
     "iopub.execute_input": "2021-11-26T10:51:33.088896Z",
     "iopub.status.busy": "2021-11-26T10:51:33.087921Z",
     "iopub.status.idle": "2021-11-26T10:51:33.090921Z",
     "shell.execute_reply": "2021-11-26T10:51:33.091450Z",
     "shell.execute_reply.started": "2021-11-26T10:37:53.062305Z"
    },
    "papermill": {
     "duration": 0.120589,
     "end_time": "2021-11-26T10:51:33.091629",
     "exception": false,
     "start_time": "2021-11-26T10:51:32.971040",
     "status": "completed"
    },
    "tags": []
   },
   "outputs": [
    {
     "data": {
      "text/plain": [
       "(5000, 23)"
      ]
     },
     "execution_count": 344,
     "metadata": {},
     "output_type": "execute_result"
    }
   ],
   "source": [
    "test_df.shape"
   ]
  },
  {
   "cell_type": "code",
   "execution_count": 345,
   "id": "b61e97c6",
   "metadata": {
    "execution": {
     "iopub.execute_input": "2021-11-26T10:51:33.372518Z",
     "iopub.status.busy": "2021-11-26T10:51:33.371782Z",
     "iopub.status.idle": "2021-11-26T10:51:33.402047Z",
     "shell.execute_reply": "2021-11-26T10:51:33.402572Z",
     "shell.execute_reply.started": "2021-11-26T10:37:53.070796Z"
    },
    "papermill": {
     "duration": 0.199005,
     "end_time": "2021-11-26T10:51:33.402749",
     "exception": false,
     "start_time": "2021-11-26T10:51:33.203744",
     "status": "completed"
    },
    "tags": []
   },
   "outputs": [
    {
     "data": {
      "text/html": [
       "<div>\n",
       "<style scoped>\n",
       "    .dataframe tbody tr th:only-of-type {\n",
       "        vertical-align: middle;\n",
       "    }\n",
       "\n",
       "    .dataframe tbody tr th {\n",
       "        vertical-align: top;\n",
       "    }\n",
       "\n",
       "    .dataframe thead th {\n",
       "        text-align: right;\n",
       "    }\n",
       "</style>\n",
       "<table border=\"1\" class=\"dataframe\">\n",
       "  <thead>\n",
       "    <tr style=\"text-align: right;\">\n",
       "      <th></th>\n",
       "      <th>Rooms</th>\n",
       "      <th>Square</th>\n",
       "      <th>LifeSquare</th>\n",
       "      <th>KitchenSquare</th>\n",
       "      <th>Floor</th>\n",
       "      <th>HouseFloor</th>\n",
       "      <th>HouseYear</th>\n",
       "      <th>Ecology_1</th>\n",
       "      <th>Ecology_2</th>\n",
       "      <th>Ecology_3</th>\n",
       "      <th>...</th>\n",
       "      <th>Helthcare_2</th>\n",
       "      <th>Shops_1</th>\n",
       "      <th>Shops_2</th>\n",
       "      <th>Rooms_outlier</th>\n",
       "      <th>HouseFloor_outlier</th>\n",
       "      <th>HouseYear_outlier</th>\n",
       "      <th>LifeSquare_nan</th>\n",
       "      <th>DistrictSize</th>\n",
       "      <th>new_district</th>\n",
       "      <th>IsDistrictLarge</th>\n",
       "    </tr>\n",
       "  </thead>\n",
       "  <tbody>\n",
       "    <tr>\n",
       "      <th>0</th>\n",
       "      <td>1.0</td>\n",
       "      <td>36.847630</td>\n",
       "      <td>19.094182</td>\n",
       "      <td>5.0</td>\n",
       "      <td>5</td>\n",
       "      <td>9.0</td>\n",
       "      <td>1970</td>\n",
       "      <td>0.036122</td>\n",
       "      <td>1</td>\n",
       "      <td>1</td>\n",
       "      <td>...</td>\n",
       "      <td>1</td>\n",
       "      <td>1</td>\n",
       "      <td>1</td>\n",
       "      <td>0</td>\n",
       "      <td>0</td>\n",
       "      <td>0</td>\n",
       "      <td>0</td>\n",
       "      <td>76.0</td>\n",
       "      <td>0</td>\n",
       "      <td>0</td>\n",
       "    </tr>\n",
       "    <tr>\n",
       "      <th>1</th>\n",
       "      <td>1.0</td>\n",
       "      <td>42.568133</td>\n",
       "      <td>42.493907</td>\n",
       "      <td>10.0</td>\n",
       "      <td>7</td>\n",
       "      <td>17.0</td>\n",
       "      <td>2017</td>\n",
       "      <td>0.072158</td>\n",
       "      <td>1</td>\n",
       "      <td>1</td>\n",
       "      <td>...</td>\n",
       "      <td>0</td>\n",
       "      <td>0</td>\n",
       "      <td>0</td>\n",
       "      <td>0</td>\n",
       "      <td>0</td>\n",
       "      <td>0</td>\n",
       "      <td>0</td>\n",
       "      <td>164.0</td>\n",
       "      <td>0</td>\n",
       "      <td>1</td>\n",
       "    </tr>\n",
       "    <tr>\n",
       "      <th>2</th>\n",
       "      <td>2.0</td>\n",
       "      <td>59.463678</td>\n",
       "      <td>43.463678</td>\n",
       "      <td>9.0</td>\n",
       "      <td>19</td>\n",
       "      <td>19.0</td>\n",
       "      <td>1977</td>\n",
       "      <td>0.211401</td>\n",
       "      <td>1</td>\n",
       "      <td>1</td>\n",
       "      <td>...</td>\n",
       "      <td>0</td>\n",
       "      <td>1</td>\n",
       "      <td>1</td>\n",
       "      <td>0</td>\n",
       "      <td>0</td>\n",
       "      <td>0</td>\n",
       "      <td>1</td>\n",
       "      <td>580.0</td>\n",
       "      <td>0</td>\n",
       "      <td>1</td>\n",
       "    </tr>\n",
       "    <tr>\n",
       "      <th>3</th>\n",
       "      <td>3.0</td>\n",
       "      <td>49.646030</td>\n",
       "      <td>33.893825</td>\n",
       "      <td>6.0</td>\n",
       "      <td>2</td>\n",
       "      <td>2.0</td>\n",
       "      <td>1965</td>\n",
       "      <td>0.014073</td>\n",
       "      <td>1</td>\n",
       "      <td>1</td>\n",
       "      <td>...</td>\n",
       "      <td>0</td>\n",
       "      <td>0</td>\n",
       "      <td>1</td>\n",
       "      <td>0</td>\n",
       "      <td>0</td>\n",
       "      <td>0</td>\n",
       "      <td>0</td>\n",
       "      <td>372.0</td>\n",
       "      <td>0</td>\n",
       "      <td>1</td>\n",
       "    </tr>\n",
       "    <tr>\n",
       "      <th>4</th>\n",
       "      <td>1.0</td>\n",
       "      <td>53.837056</td>\n",
       "      <td>40.837056</td>\n",
       "      <td>6.0</td>\n",
       "      <td>8</td>\n",
       "      <td>17.0</td>\n",
       "      <td>1977</td>\n",
       "      <td>0.309479</td>\n",
       "      <td>1</td>\n",
       "      <td>1</td>\n",
       "      <td>...</td>\n",
       "      <td>0</td>\n",
       "      <td>6</td>\n",
       "      <td>1</td>\n",
       "      <td>0</td>\n",
       "      <td>0</td>\n",
       "      <td>0</td>\n",
       "      <td>1</td>\n",
       "      <td>65.0</td>\n",
       "      <td>0</td>\n",
       "      <td>0</td>\n",
       "    </tr>\n",
       "    <tr>\n",
       "      <th>...</th>\n",
       "      <td>...</td>\n",
       "      <td>...</td>\n",
       "      <td>...</td>\n",
       "      <td>...</td>\n",
       "      <td>...</td>\n",
       "      <td>...</td>\n",
       "      <td>...</td>\n",
       "      <td>...</td>\n",
       "      <td>...</td>\n",
       "      <td>...</td>\n",
       "      <td>...</td>\n",
       "      <td>...</td>\n",
       "      <td>...</td>\n",
       "      <td>...</td>\n",
       "      <td>...</td>\n",
       "      <td>...</td>\n",
       "      <td>...</td>\n",
       "      <td>...</td>\n",
       "      <td>...</td>\n",
       "      <td>...</td>\n",
       "      <td>...</td>\n",
       "    </tr>\n",
       "    <tr>\n",
       "      <th>4995</th>\n",
       "      <td>2.0</td>\n",
       "      <td>43.177521</td>\n",
       "      <td>30.339945</td>\n",
       "      <td>5.0</td>\n",
       "      <td>2</td>\n",
       "      <td>5.0</td>\n",
       "      <td>1962</td>\n",
       "      <td>0.069660</td>\n",
       "      <td>1</td>\n",
       "      <td>1</td>\n",
       "      <td>...</td>\n",
       "      <td>1</td>\n",
       "      <td>2</td>\n",
       "      <td>1</td>\n",
       "      <td>0</td>\n",
       "      <td>1</td>\n",
       "      <td>0</td>\n",
       "      <td>0</td>\n",
       "      <td>56.0</td>\n",
       "      <td>0</td>\n",
       "      <td>0</td>\n",
       "    </tr>\n",
       "    <tr>\n",
       "      <th>4996</th>\n",
       "      <td>3.0</td>\n",
       "      <td>94.521465</td>\n",
       "      <td>93.698122</td>\n",
       "      <td>10.0</td>\n",
       "      <td>21</td>\n",
       "      <td>27.0</td>\n",
       "      <td>2018</td>\n",
       "      <td>0.060753</td>\n",
       "      <td>1</td>\n",
       "      <td>1</td>\n",
       "      <td>...</td>\n",
       "      <td>0</td>\n",
       "      <td>7</td>\n",
       "      <td>1</td>\n",
       "      <td>0</td>\n",
       "      <td>0</td>\n",
       "      <td>0</td>\n",
       "      <td>0</td>\n",
       "      <td>26.0</td>\n",
       "      <td>0</td>\n",
       "      <td>0</td>\n",
       "    </tr>\n",
       "    <tr>\n",
       "      <th>4997</th>\n",
       "      <td>1.0</td>\n",
       "      <td>33.656723</td>\n",
       "      <td>19.003259</td>\n",
       "      <td>5.0</td>\n",
       "      <td>2</td>\n",
       "      <td>5.0</td>\n",
       "      <td>1966</td>\n",
       "      <td>0.038693</td>\n",
       "      <td>1</td>\n",
       "      <td>1</td>\n",
       "      <td>...</td>\n",
       "      <td>2</td>\n",
       "      <td>5</td>\n",
       "      <td>1</td>\n",
       "      <td>0</td>\n",
       "      <td>0</td>\n",
       "      <td>0</td>\n",
       "      <td>0</td>\n",
       "      <td>54.0</td>\n",
       "      <td>0</td>\n",
       "      <td>0</td>\n",
       "    </tr>\n",
       "    <tr>\n",
       "      <th>4998</th>\n",
       "      <td>1.0</td>\n",
       "      <td>38.635155</td>\n",
       "      <td>20.976257</td>\n",
       "      <td>9.0</td>\n",
       "      <td>8</td>\n",
       "      <td>14.0</td>\n",
       "      <td>1970</td>\n",
       "      <td>0.089040</td>\n",
       "      <td>1</td>\n",
       "      <td>1</td>\n",
       "      <td>...</td>\n",
       "      <td>0</td>\n",
       "      <td>11</td>\n",
       "      <td>1</td>\n",
       "      <td>0</td>\n",
       "      <td>0</td>\n",
       "      <td>0</td>\n",
       "      <td>0</td>\n",
       "      <td>40.0</td>\n",
       "      <td>0</td>\n",
       "      <td>0</td>\n",
       "    </tr>\n",
       "    <tr>\n",
       "      <th>4999</th>\n",
       "      <td>2.0</td>\n",
       "      <td>67.122742</td>\n",
       "      <td>33.944344</td>\n",
       "      <td>6.0</td>\n",
       "      <td>9</td>\n",
       "      <td>17.0</td>\n",
       "      <td>2009</td>\n",
       "      <td>0.194489</td>\n",
       "      <td>1</td>\n",
       "      <td>1</td>\n",
       "      <td>...</td>\n",
       "      <td>3</td>\n",
       "      <td>5</td>\n",
       "      <td>1</td>\n",
       "      <td>0</td>\n",
       "      <td>0</td>\n",
       "      <td>0</td>\n",
       "      <td>0</td>\n",
       "      <td>117.0</td>\n",
       "      <td>0</td>\n",
       "      <td>1</td>\n",
       "    </tr>\n",
       "  </tbody>\n",
       "</table>\n",
       "<p>5000 rows × 23 columns</p>\n",
       "</div>"
      ],
      "text/plain": [
       "      Rooms     Square  LifeSquare  KitchenSquare  Floor  HouseFloor  \\\n",
       "0       1.0  36.847630   19.094182            5.0      5         9.0   \n",
       "1       1.0  42.568133   42.493907           10.0      7        17.0   \n",
       "2       2.0  59.463678   43.463678            9.0     19        19.0   \n",
       "3       3.0  49.646030   33.893825            6.0      2         2.0   \n",
       "4       1.0  53.837056   40.837056            6.0      8        17.0   \n",
       "...     ...        ...         ...            ...    ...         ...   \n",
       "4995    2.0  43.177521   30.339945            5.0      2         5.0   \n",
       "4996    3.0  94.521465   93.698122           10.0     21        27.0   \n",
       "4997    1.0  33.656723   19.003259            5.0      2         5.0   \n",
       "4998    1.0  38.635155   20.976257            9.0      8        14.0   \n",
       "4999    2.0  67.122742   33.944344            6.0      9        17.0   \n",
       "\n",
       "      HouseYear  Ecology_1  Ecology_2  Ecology_3  ...  Helthcare_2  Shops_1  \\\n",
       "0          1970   0.036122          1          1  ...            1        1   \n",
       "1          2017   0.072158          1          1  ...            0        0   \n",
       "2          1977   0.211401          1          1  ...            0        1   \n",
       "3          1965   0.014073          1          1  ...            0        0   \n",
       "4          1977   0.309479          1          1  ...            0        6   \n",
       "...         ...        ...        ...        ...  ...          ...      ...   \n",
       "4995       1962   0.069660          1          1  ...            1        2   \n",
       "4996       2018   0.060753          1          1  ...            0        7   \n",
       "4997       1966   0.038693          1          1  ...            2        5   \n",
       "4998       1970   0.089040          1          1  ...            0       11   \n",
       "4999       2009   0.194489          1          1  ...            3        5   \n",
       "\n",
       "      Shops_2  Rooms_outlier  HouseFloor_outlier  HouseYear_outlier  \\\n",
       "0           1              0                   0                  0   \n",
       "1           0              0                   0                  0   \n",
       "2           1              0                   0                  0   \n",
       "3           1              0                   0                  0   \n",
       "4           1              0                   0                  0   \n",
       "...       ...            ...                 ...                ...   \n",
       "4995        1              0                   1                  0   \n",
       "4996        1              0                   0                  0   \n",
       "4997        1              0                   0                  0   \n",
       "4998        1              0                   0                  0   \n",
       "4999        1              0                   0                  0   \n",
       "\n",
       "      LifeSquare_nan  DistrictSize  new_district  IsDistrictLarge  \n",
       "0                  0          76.0             0                0  \n",
       "1                  0         164.0             0                1  \n",
       "2                  1         580.0             0                1  \n",
       "3                  0         372.0             0                1  \n",
       "4                  1          65.0             0                0  \n",
       "...              ...           ...           ...              ...  \n",
       "4995               0          56.0             0                0  \n",
       "4996               0          26.0             0                0  \n",
       "4997               0          54.0             0                0  \n",
       "4998               0          40.0             0                0  \n",
       "4999               0         117.0             0                1  \n",
       "\n",
       "[5000 rows x 23 columns]"
      ]
     },
     "execution_count": 345,
     "metadata": {},
     "output_type": "execute_result"
    }
   ],
   "source": [
    "test_df"
   ]
  },
  {
   "cell_type": "code",
   "execution_count": 347,
   "id": "9744eddb",
   "metadata": {
    "execution": {
     "iopub.execute_input": "2021-11-26T10:51:33.631569Z",
     "iopub.status.busy": "2021-11-26T10:51:33.630816Z",
     "iopub.status.idle": "2021-11-26T10:51:33.655354Z",
     "shell.execute_reply": "2021-11-26T10:51:33.655884Z",
     "shell.execute_reply.started": "2021-11-26T10:37:53.113111Z"
    },
    "papermill": {
     "duration": 0.140681,
     "end_time": "2021-11-26T10:51:33.656056",
     "exception": false,
     "start_time": "2021-11-26T10:51:33.515375",
     "status": "completed"
    },
    "tags": []
   },
   "outputs": [
    {
     "data": {
      "text/html": [
       "<div>\n",
       "<style scoped>\n",
       "    .dataframe tbody tr th:only-of-type {\n",
       "        vertical-align: middle;\n",
       "    }\n",
       "\n",
       "    .dataframe tbody tr th {\n",
       "        vertical-align: top;\n",
       "    }\n",
       "\n",
       "    .dataframe thead th {\n",
       "        text-align: right;\n",
       "    }\n",
       "</style>\n",
       "<table border=\"1\" class=\"dataframe\">\n",
       "  <thead>\n",
       "    <tr style=\"text-align: right;\">\n",
       "      <th></th>\n",
       "      <th>Id</th>\n",
       "      <th>Price</th>\n",
       "    </tr>\n",
       "  </thead>\n",
       "  <tbody>\n",
       "    <tr>\n",
       "      <th>0</th>\n",
       "      <td>4567</td>\n",
       "      <td>200000.0</td>\n",
       "    </tr>\n",
       "    <tr>\n",
       "      <th>1</th>\n",
       "      <td>5925</td>\n",
       "      <td>200000.0</td>\n",
       "    </tr>\n",
       "    <tr>\n",
       "      <th>2</th>\n",
       "      <td>960</td>\n",
       "      <td>200000.0</td>\n",
       "    </tr>\n",
       "    <tr>\n",
       "      <th>3</th>\n",
       "      <td>3848</td>\n",
       "      <td>200000.0</td>\n",
       "    </tr>\n",
       "    <tr>\n",
       "      <th>4</th>\n",
       "      <td>746</td>\n",
       "      <td>200000.0</td>\n",
       "    </tr>\n",
       "  </tbody>\n",
       "</table>\n",
       "</div>"
      ],
      "text/plain": [
       "     Id     Price\n",
       "0  4567  200000.0\n",
       "1  5925  200000.0\n",
       "2   960  200000.0\n",
       "3  3848  200000.0\n",
       "4   746  200000.0"
      ]
     },
     "execution_count": 347,
     "metadata": {},
     "output_type": "execute_result"
    }
   ],
   "source": [
    "submit = pd.read_csv('sample_submission.csv')\n",
    "submit.head()"
   ]
  },
  {
   "cell_type": "code",
   "execution_count": 348,
   "id": "efe4b720",
   "metadata": {
    "execution": {
     "iopub.execute_input": "2021-11-26T10:51:33.886508Z",
     "iopub.status.busy": "2021-11-26T10:51:33.885788Z",
     "iopub.status.idle": "2021-11-26T10:51:33.918875Z",
     "shell.execute_reply": "2021-11-26T10:51:33.919465Z",
     "shell.execute_reply.started": "2021-11-26T10:37:53.131621Z"
    },
    "papermill": {
     "duration": 0.149627,
     "end_time": "2021-11-26T10:51:33.919657",
     "exception": false,
     "start_time": "2021-11-26T10:51:33.770030",
     "status": "completed"
    },
    "tags": []
   },
   "outputs": [
    {
     "data": {
      "text/plain": [
       "array([163738.19842899, 127043.53013376, 146542.40554511, ...,\n",
       "       146949.71237612, 193655.3412705 , 243999.43142755])"
      ]
     },
     "execution_count": 348,
     "metadata": {},
     "output_type": "execute_result"
    }
   ],
   "source": [
    "predictions = model.predict(test_df)\n",
    "predictions"
   ]
  },
  {
   "cell_type": "code",
   "execution_count": 349,
   "id": "a1d7cdef",
   "metadata": {
    "execution": {
     "iopub.execute_input": "2021-11-26T10:51:34.156347Z",
     "iopub.status.busy": "2021-11-26T10:51:34.155301Z",
     "iopub.status.idle": "2021-11-26T10:51:34.162441Z",
     "shell.execute_reply": "2021-11-26T10:51:34.162996Z",
     "shell.execute_reply.started": "2021-11-26T10:37:53.168225Z"
    },
    "papermill": {
     "duration": 0.129312,
     "end_time": "2021-11-26T10:51:34.163186",
     "exception": false,
     "start_time": "2021-11-26T10:51:34.033874",
     "status": "completed"
    },
    "tags": []
   },
   "outputs": [
    {
     "data": {
      "text/html": [
       "<div>\n",
       "<style scoped>\n",
       "    .dataframe tbody tr th:only-of-type {\n",
       "        vertical-align: middle;\n",
       "    }\n",
       "\n",
       "    .dataframe tbody tr th {\n",
       "        vertical-align: top;\n",
       "    }\n",
       "\n",
       "    .dataframe thead th {\n",
       "        text-align: right;\n",
       "    }\n",
       "</style>\n",
       "<table border=\"1\" class=\"dataframe\">\n",
       "  <thead>\n",
       "    <tr style=\"text-align: right;\">\n",
       "      <th></th>\n",
       "      <th>Id</th>\n",
       "      <th>Price</th>\n",
       "    </tr>\n",
       "  </thead>\n",
       "  <tbody>\n",
       "    <tr>\n",
       "      <th>0</th>\n",
       "      <td>4567</td>\n",
       "      <td>163738.198429</td>\n",
       "    </tr>\n",
       "    <tr>\n",
       "      <th>1</th>\n",
       "      <td>5925</td>\n",
       "      <td>127043.530134</td>\n",
       "    </tr>\n",
       "    <tr>\n",
       "      <th>2</th>\n",
       "      <td>960</td>\n",
       "      <td>146542.405545</td>\n",
       "    </tr>\n",
       "    <tr>\n",
       "      <th>3</th>\n",
       "      <td>3848</td>\n",
       "      <td>142405.472404</td>\n",
       "    </tr>\n",
       "    <tr>\n",
       "      <th>4</th>\n",
       "      <td>746</td>\n",
       "      <td>205282.688789</td>\n",
       "    </tr>\n",
       "  </tbody>\n",
       "</table>\n",
       "</div>"
      ],
      "text/plain": [
       "     Id          Price\n",
       "0  4567  163738.198429\n",
       "1  5925  127043.530134\n",
       "2   960  146542.405545\n",
       "3  3848  142405.472404\n",
       "4   746  205282.688789"
      ]
     },
     "execution_count": 349,
     "metadata": {},
     "output_type": "execute_result"
    }
   ],
   "source": [
    "submit['Price'] = predictions\n",
    "submit.head()"
   ]
  },
  {
   "cell_type": "code",
   "execution_count": 350,
   "id": "09dce3d2",
   "metadata": {
    "execution": {
     "iopub.execute_input": "2021-11-26T10:51:34.400919Z",
     "iopub.status.busy": "2021-11-26T10:51:34.399113Z",
     "iopub.status.idle": "2021-11-26T10:51:34.426566Z",
     "shell.execute_reply": "2021-11-26T10:51:34.425816Z",
     "shell.execute_reply.started": "2021-11-26T10:37:53.180781Z"
    },
    "papermill": {
     "duration": 0.150004,
     "end_time": "2021-11-26T10:51:34.426722",
     "exception": false,
     "start_time": "2021-11-26T10:51:34.276718",
     "status": "completed"
    },
    "tags": []
   },
   "outputs": [],
   "source": [
    "submit.to_csv('submit.csv', index=False)"
   ]
  }
 ],
 "metadata": {
  "kernelspec": {
   "display_name": "Python 3 (ipykernel)",
   "language": "python",
   "name": "python3"
  },
  "language_info": {
   "codemirror_mode": {
    "name": "ipython",
    "version": 3
   },
   "file_extension": ".py",
   "mimetype": "text/x-python",
   "name": "python",
   "nbconvert_exporter": "python",
   "pygments_lexer": "ipython3",
   "version": "3.9.7"
  },
  "papermill": {
   "default_parameters": {},
   "duration": 47.996018,
   "end_time": "2021-11-26T10:51:35.583810",
   "environment_variables": {},
   "exception": null,
   "input_path": "__notebook__.ipynb",
   "output_path": "__notebook__.ipynb",
   "parameters": {},
   "start_time": "2021-11-26T10:50:47.587792",
   "version": "2.3.3"
  }
 },
 "nbformat": 4,
 "nbformat_minor": 5
}
